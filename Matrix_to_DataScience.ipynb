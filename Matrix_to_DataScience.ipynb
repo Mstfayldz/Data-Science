{
  "nbformat": 4,
  "nbformat_minor": 0,
  "metadata": {
    "colab": {
      "provenance": [],
      "authorship_tag": "ABX9TyMxaujCMbRajEtwZ/mUGIdW",
      "include_colab_link": true
    },
    "kernelspec": {
      "name": "python3",
      "display_name": "Python 3"
    },
    "language_info": {
      "name": "python"
    }
  },
  "cells": [
    {
      "cell_type": "markdown",
      "metadata": {
        "id": "view-in-github",
        "colab_type": "text"
      },
      "source": [
        "<a href=\"https://colab.research.google.com/github/Mstfayldz/Data-Science/blob/master/Matrix_to_DataScience.ipynb\" target=\"_parent\"><img src=\"https://colab.research.google.com/assets/colab-badge.svg\" alt=\"Open In Colab\"/></a>"
      ]
    },
    {
      "cell_type": "markdown",
      "source": [
        "# MATRIX"
      ],
      "metadata": {
        "id": "TxL_hiZRGGA4"
      }
    },
    {
      "cell_type": "code",
      "source": [
        "import numpy as np"
      ],
      "metadata": {
        "id": "Vnn3jH7eox5D"
      },
      "execution_count": 215,
      "outputs": []
    },
    {
      "cell_type": "markdown",
      "source": [
        "row*column"
      ],
      "metadata": {
        "id": "phBcRnhipSYm"
      }
    },
    {
      "cell_type": "code",
      "execution_count": 216,
      "metadata": {
        "id": "VpcbiZR6F_sC"
      },
      "outputs": [],
      "source": [
        "my_matrix=[[1,2],[3,4]]"
      ]
    },
    {
      "cell_type": "code",
      "source": [
        "my_matrix"
      ],
      "metadata": {
        "colab": {
          "base_uri": "https://localhost:8080/"
        },
        "id": "EU53Jtlcoi_-",
        "outputId": "1893af8c-220e-4b9f-f322-a355873466b2"
      },
      "execution_count": 217,
      "outputs": [
        {
          "output_type": "execute_result",
          "data": {
            "text/plain": [
              "[[1, 2], [3, 4]]"
            ]
          },
          "metadata": {},
          "execution_count": 217
        }
      ]
    },
    {
      "cell_type": "code",
      "source": [
        "my_matrix[0][1]"
      ],
      "metadata": {
        "colab": {
          "base_uri": "https://localhost:8080/"
        },
        "id": "Fm5Xf3E4ok9O",
        "outputId": "28195a7e-5433-4886-a71d-1418288e1578"
      },
      "execution_count": 218,
      "outputs": [
        {
          "output_type": "execute_result",
          "data": {
            "text/plain": [
              "2"
            ]
          },
          "metadata": {},
          "execution_count": 218
        }
      ]
    },
    {
      "cell_type": "code",
      "source": [
        "np.ones((3,3))"
      ],
      "metadata": {
        "colab": {
          "base_uri": "https://localhost:8080/"
        },
        "id": "QvLpSMjZopkm",
        "outputId": "c4d246c1-eb20-4e84-e01d-3a1f604460f8"
      },
      "execution_count": 219,
      "outputs": [
        {
          "output_type": "execute_result",
          "data": {
            "text/plain": [
              "array([[1., 1., 1.],\n",
              "       [1., 1., 1.],\n",
              "       [1., 1., 1.]])"
            ]
          },
          "metadata": {},
          "execution_count": 219
        }
      ]
    },
    {
      "cell_type": "code",
      "source": [
        "np.random.random((4,4))"
      ],
      "metadata": {
        "colab": {
          "base_uri": "https://localhost:8080/"
        },
        "id": "q6jDMIQqo7Fp",
        "outputId": "8f344bee-88df-4518-cad2-e484a404ccaa"
      },
      "execution_count": 220,
      "outputs": [
        {
          "output_type": "execute_result",
          "data": {
            "text/plain": [
              "array([[0.01136854, 0.93066944, 0.20958227, 0.62199464],\n",
              "       [0.2065832 , 0.91132018, 0.2780135 , 0.75238416],\n",
              "       [0.66576215, 0.43461042, 0.3895347 , 0.16176711],\n",
              "       [0.05717917, 0.72365744, 0.85333148, 0.86982553]])"
            ]
          },
          "metadata": {},
          "execution_count": 220
        }
      ]
    },
    {
      "cell_type": "code",
      "source": [
        "np.random.rand(4,4)"
      ],
      "metadata": {
        "colab": {
          "base_uri": "https://localhost:8080/"
        },
        "id": "OLZAhigio-hA",
        "outputId": "7c7fc96a-adfb-4685-97a7-b7c24f3ff9f4"
      },
      "execution_count": 221,
      "outputs": [
        {
          "output_type": "execute_result",
          "data": {
            "text/plain": [
              "array([[0.09063306, 0.21475757, 0.45672524, 0.47303907],\n",
              "       [0.01548648, 0.04242737, 0.9934149 , 0.91043087],\n",
              "       [0.09907368, 0.10228179, 0.32536117, 0.87792365],\n",
              "       [0.11197354, 0.10909991, 0.39138035, 0.67756964]])"
            ]
          },
          "metadata": {},
          "execution_count": 221
        }
      ]
    },
    {
      "cell_type": "code",
      "source": [
        "np_matrix=np.array([[5,10],[15,20]])"
      ],
      "metadata": {
        "id": "a0SwZofypNes"
      },
      "execution_count": 222,
      "outputs": []
    },
    {
      "cell_type": "code",
      "source": [
        "np_matrix.sum()\n",
        "#print(np_matrix.sum()) yazılabilir doğrusu da budur"
      ],
      "metadata": {
        "colab": {
          "base_uri": "https://localhost:8080/"
        },
        "id": "a6O5QYwepzqr",
        "outputId": "e732e885-e1b3-46fe-dc2d-a969d41cd9c1"
      },
      "execution_count": 223,
      "outputs": [
        {
          "output_type": "execute_result",
          "data": {
            "text/plain": [
              "np.int64(50)"
            ]
          },
          "metadata": {},
          "execution_count": 223
        }
      ]
    },
    {
      "cell_type": "markdown",
      "source": [
        "MATRIX ARITMETIC"
      ],
      "metadata": {
        "id": "y6ibKY7uQ4x9"
      }
    },
    {
      "cell_type": "code",
      "source": [
        "first_array=np.array([[10,20],[30,40]])"
      ],
      "metadata": {
        "id": "eAAUe6Yyp2jz"
      },
      "execution_count": 224,
      "outputs": []
    },
    {
      "cell_type": "code",
      "source": [
        "second_array=np.array([[5,10],[15,20]])"
      ],
      "metadata": {
        "id": "q1PCwaOvp6SA"
      },
      "execution_count": 225,
      "outputs": []
    },
    {
      "cell_type": "code",
      "source": [
        "first_array+second_array"
      ],
      "metadata": {
        "colab": {
          "base_uri": "https://localhost:8080/"
        },
        "id": "_N1i55UvRx2B",
        "outputId": "e6548b73-c708-4ce8-9c58-8ccac4de36c6"
      },
      "execution_count": 226,
      "outputs": [
        {
          "output_type": "execute_result",
          "data": {
            "text/plain": [
              "array([[15, 30],\n",
              "       [45, 60]])"
            ]
          },
          "metadata": {},
          "execution_count": 226
        }
      ]
    },
    {
      "cell_type": "code",
      "source": [
        "third_array=np.array([[1,2]])"
      ],
      "metadata": {
        "id": "hA0QxgHgRzkB"
      },
      "execution_count": 227,
      "outputs": []
    },
    {
      "cell_type": "code",
      "source": [
        "first_array+third_array\n",
        "#Broadcasting olayı olur row-column yani dimensions olarak aynı olmasalar da tek row olduğu için iki row a da bu tek row eklendi\n"
      ],
      "metadata": {
        "colab": {
          "base_uri": "https://localhost:8080/"
        },
        "id": "aTziXA6HR4fW",
        "outputId": "9c957828-e181-4886-a0ad-16ad91522108"
      },
      "execution_count": 228,
      "outputs": [
        {
          "output_type": "execute_result",
          "data": {
            "text/plain": [
              "array([[11, 22],\n",
              "       [31, 42]])"
            ]
          },
          "metadata": {},
          "execution_count": 228
        }
      ]
    },
    {
      "cell_type": "code",
      "source": [
        "foutrh_array=np.array([[10,15],[20,25],[30,35]])"
      ],
      "metadata": {
        "id": "2kM_ICVcR6nT"
      },
      "execution_count": 229,
      "outputs": []
    },
    {
      "cell_type": "code",
      "source": [
        "#first_array+foutrh_array #broadcasting hatası olur shapeler==>dimensionslar aynı değildir"
      ],
      "metadata": {
        "id": "jwE37FbBSTRK"
      },
      "execution_count": 230,
      "outputs": []
    },
    {
      "cell_type": "code",
      "source": [
        "first_array.shape\n",
        "# second_array.shape\n",
        "# third_array.shape          =====>> her zaman (row,column)\n",
        "# foutrh_array.shape\n"
      ],
      "metadata": {
        "colab": {
          "base_uri": "https://localhost:8080/"
        },
        "id": "ugpTTl-jSVLm",
        "outputId": "82b05883-da14-493a-e6b8-7abb3ebc6d8f"
      },
      "execution_count": 231,
      "outputs": [
        {
          "output_type": "execute_result",
          "data": {
            "text/plain": [
              "(2, 2)"
            ]
          },
          "metadata": {},
          "execution_count": 231
        }
      ]
    },
    {
      "cell_type": "markdown",
      "source": [
        "MATRIX MULTIPLICATION ==> burada aslında dot product işlemi yapılır ilk matisin rowu ikinci matrisin de columnu alınır ve sonuç matrisinin  sahpe'i böyle belirlenir işlemler içinse ilk arrayın ilk row u ikinci arrayın ilk column u ile çarpılır ve hepsi tek tek toplanır ve sonra ilk elamn olarak yazılır sonra ilk arrayın ilk rowu ikinci arrayın 2. columnuyla aynı şekilde devam eder. Ama ilk arrayın columnu ile ikinci arrayın row değerlerinin de eşit olması gerekir örneğin: 1x3  3x2"
      ],
      "metadata": {
        "id": "S_W0JXToUCgJ"
      }
    },
    {
      "cell_type": "code",
      "source": [
        "multy_array1=np.array([[1,2,3]])"
      ],
      "metadata": {
        "id": "bSVtgF5RS1fY"
      },
      "execution_count": 232,
      "outputs": []
    },
    {
      "cell_type": "code",
      "source": [
        "multy_array2=np.array([[4,2],[5,3],[6,4]])"
      ],
      "metadata": {
        "id": "c6YwtgGyU9zJ"
      },
      "execution_count": 233,
      "outputs": []
    },
    {
      "cell_type": "code",
      "source": [
        "result_matrix=multy_array1.dot(multy_array2)#==> 1*4=4 , 2*5=10 , 3*6=18 => toplamı 32 /// 1*2=2 ,  2*3=6 , 3*4=12 => toplamı 20"
      ],
      "metadata": {
        "id": "6g98bV8UVAf2"
      },
      "execution_count": 234,
      "outputs": []
    },
    {
      "cell_type": "code",
      "source": [
        "result_matrix"
      ],
      "metadata": {
        "colab": {
          "base_uri": "https://localhost:8080/"
        },
        "id": "1EYQVy4KVzmB",
        "outputId": "3923b820-67cd-4b07-d615-320e78ccf1bc"
      },
      "execution_count": 235,
      "outputs": [
        {
          "output_type": "execute_result",
          "data": {
            "text/plain": [
              "array([[32, 20]])"
            ]
          },
          "metadata": {},
          "execution_count": 235
        }
      ]
    },
    {
      "cell_type": "code",
      "source": [
        "result_matrix.shape"
      ],
      "metadata": {
        "colab": {
          "base_uri": "https://localhost:8080/"
        },
        "id": "xdcoIXGwWioR",
        "outputId": "23ec433b-ce7b-411a-cc09-2b01456e5eea"
      },
      "execution_count": 236,
      "outputs": [
        {
          "output_type": "execute_result",
          "data": {
            "text/plain": [
              "(1, 2)"
            ]
          },
          "metadata": {},
          "execution_count": 236
        }
      ]
    },
    {
      "cell_type": "markdown",
      "source": [
        "Numpy Examples"
      ],
      "metadata": {
        "id": "HJsXf-RJXP7i"
      }
    },
    {
      "cell_type": "code",
      "source": [
        "new_array= np.random.randint(1,101,20)"
      ],
      "metadata": {
        "id": "pP-ORe6IWkGy"
      },
      "execution_count": 237,
      "outputs": []
    },
    {
      "cell_type": "code",
      "source": [
        "new_array"
      ],
      "metadata": {
        "colab": {
          "base_uri": "https://localhost:8080/"
        },
        "id": "gG2gq36DXjJI",
        "outputId": "89ecb796-b7a9-4bc5-a3a2-8ad9a79d2098"
      },
      "execution_count": 238,
      "outputs": [
        {
          "output_type": "execute_result",
          "data": {
            "text/plain": [
              "array([22,  3, 29, 92, 62, 11, 79, 47, 69, 44, 88, 90, 70, 20, 39, 85, 18,\n",
              "       84, 96, 43])"
            ]
          },
          "metadata": {},
          "execution_count": 238
        }
      ]
    },
    {
      "cell_type": "code",
      "source": [
        "new_array>25"
      ],
      "metadata": {
        "colab": {
          "base_uri": "https://localhost:8080/"
        },
        "id": "7gJdDU3sXxwF",
        "outputId": "09bc1a6d-d3ac-4d8e-bfec-64ab477185b3"
      },
      "execution_count": 239,
      "outputs": [
        {
          "output_type": "execute_result",
          "data": {
            "text/plain": [
              "array([False, False,  True,  True,  True, False,  True,  True,  True,\n",
              "        True,  True,  True,  True, False,  True,  True, False,  True,\n",
              "        True,  True])"
            ]
          },
          "metadata": {},
          "execution_count": 239
        }
      ]
    },
    {
      "cell_type": "code",
      "source": [
        "new_array[new_array>25]"
      ],
      "metadata": {
        "colab": {
          "base_uri": "https://localhost:8080/"
        },
        "id": "8oNSbvcpXkU6",
        "outputId": "1a27bad0-5139-46fc-d803-486cd45596c4"
      },
      "execution_count": 240,
      "outputs": [
        {
          "output_type": "execute_result",
          "data": {
            "text/plain": [
              "array([29, 92, 62, 79, 47, 69, 44, 88, 90, 70, 39, 85, 84, 96, 43])"
            ]
          },
          "metadata": {},
          "execution_count": 240
        }
      ]
    },
    {
      "cell_type": "code",
      "source": [
        "new_array[new_array%2]"
      ],
      "metadata": {
        "colab": {
          "base_uri": "https://localhost:8080/"
        },
        "id": "cX_EhlroXuzD",
        "outputId": "050f6d2d-6cfe-4741-ac0b-1451da73f4be"
      },
      "execution_count": 241,
      "outputs": [
        {
          "output_type": "execute_result",
          "data": {
            "text/plain": [
              "array([22,  3,  3, 22, 22,  3,  3,  3,  3, 22, 22, 22, 22, 22,  3,  3, 22,\n",
              "       22, 22,  3])"
            ]
          },
          "metadata": {},
          "execution_count": 241
        }
      ]
    },
    {
      "cell_type": "code",
      "source": [
        "# transpose / reshape ==>transpose: row ve column değerlerini birbriyle değiştiriyor // reshape: kendi atadığımız değerle değiştiriyor"
      ],
      "metadata": {
        "id": "ZRnTFCQGX6Mp"
      },
      "execution_count": 242,
      "outputs": []
    },
    {
      "cell_type": "code",
      "source": [
        "matrix_transpose= np.array([[1,2,3],[4,5,6]])"
      ],
      "metadata": {
        "id": "QxGRNztnYm3N"
      },
      "execution_count": 243,
      "outputs": []
    },
    {
      "cell_type": "code",
      "source": [
        "matrix_transpose"
      ],
      "metadata": {
        "colab": {
          "base_uri": "https://localhost:8080/"
        },
        "id": "7opWaa9HYtoK",
        "outputId": "cdd0df90-7499-4aa1-e6e7-fc59ae5b7d4e"
      },
      "execution_count": 244,
      "outputs": [
        {
          "output_type": "execute_result",
          "data": {
            "text/plain": [
              "array([[1, 2, 3],\n",
              "       [4, 5, 6]])"
            ]
          },
          "metadata": {},
          "execution_count": 244
        }
      ]
    },
    {
      "cell_type": "code",
      "source": [
        "matrix_transpose.T#==> matrix_transpose.transpose() aynı fonksiyon"
      ],
      "metadata": {
        "colab": {
          "base_uri": "https://localhost:8080/"
        },
        "id": "mgL1nH5NYvtu",
        "outputId": "f5d53adb-76a7-47e7-8f9d-2dd64eb398e1"
      },
      "execution_count": 245,
      "outputs": [
        {
          "output_type": "execute_result",
          "data": {
            "text/plain": [
              "array([[1, 4],\n",
              "       [2, 5],\n",
              "       [3, 6]])"
            ]
          },
          "metadata": {},
          "execution_count": 245
        }
      ]
    },
    {
      "cell_type": "code",
      "source": [
        "matrix_reshape=np.random.random((6,1))"
      ],
      "metadata": {
        "id": "RzZxVlJ2Y0EW"
      },
      "execution_count": 246,
      "outputs": []
    },
    {
      "cell_type": "code",
      "source": [
        "matrix_reshape"
      ],
      "metadata": {
        "colab": {
          "base_uri": "https://localhost:8080/"
        },
        "id": "ao4BYOuXZCQQ",
        "outputId": "e8588c17-c271-4594-d757-eb373282f014"
      },
      "execution_count": 247,
      "outputs": [
        {
          "output_type": "execute_result",
          "data": {
            "text/plain": [
              "array([[0.83159381],\n",
              "       [0.48631992],\n",
              "       [0.08782138],\n",
              "       [0.80248396],\n",
              "       [0.16916383],\n",
              "       [0.56937339]])"
            ]
          },
          "metadata": {},
          "execution_count": 247
        }
      ]
    },
    {
      "cell_type": "code",
      "source": [
        "matrix_reshape.reshape(2,3)"
      ],
      "metadata": {
        "colab": {
          "base_uri": "https://localhost:8080/"
        },
        "id": "DJ-NO_BSZDno",
        "outputId": "92c6bd51-0dcc-4385-b5a4-d260c5eb0081"
      },
      "execution_count": 248,
      "outputs": [
        {
          "output_type": "execute_result",
          "data": {
            "text/plain": [
              "array([[0.83159381, 0.48631992, 0.08782138],\n",
              "       [0.80248396, 0.16916383, 0.56937339]])"
            ]
          },
          "metadata": {},
          "execution_count": 248
        }
      ]
    },
    {
      "cell_type": "code",
      "source": [
        "# Z-SCORES ==> outlier(çıkıntıları tespit etmek için harika bir yöntemdir) (data-mean)/std"
      ],
      "metadata": {
        "id": "v5lDt9MSZWjO"
      },
      "execution_count": 249,
      "outputs": []
    },
    {
      "cell_type": "code",
      "source": [
        "data=np.array([10,12,13,14,15,16,17,25,100,101])"
      ],
      "metadata": {
        "id": "z7KG3p8wZ2LT"
      },
      "execution_count": 250,
      "outputs": []
    },
    {
      "cell_type": "code",
      "source": [
        "mean=data.mean()"
      ],
      "metadata": {
        "id": "s2eoWFhLaBVZ"
      },
      "execution_count": 251,
      "outputs": []
    },
    {
      "cell_type": "code",
      "source": [
        "mean"
      ],
      "metadata": {
        "colab": {
          "base_uri": "https://localhost:8080/"
        },
        "id": "29y74tWVaEQU",
        "outputId": "ccda7bed-e32b-4b33-88ee-e8968ec7f5bc"
      },
      "execution_count": 252,
      "outputs": [
        {
          "output_type": "execute_result",
          "data": {
            "text/plain": [
              "np.float64(32.3)"
            ]
          },
          "metadata": {},
          "execution_count": 252
        }
      ]
    },
    {
      "cell_type": "code",
      "source": [
        "std=data.std()"
      ],
      "metadata": {
        "id": "7d39sJTLaE6p"
      },
      "execution_count": 253,
      "outputs": []
    },
    {
      "cell_type": "code",
      "source": [
        "std"
      ],
      "metadata": {
        "colab": {
          "base_uri": "https://localhost:8080/"
        },
        "id": "jpUhkObtaHjI",
        "outputId": "93c1974c-d0ac-42ca-af05-1af3b4bd632c"
      },
      "execution_count": 254,
      "outputs": [
        {
          "output_type": "execute_result",
          "data": {
            "text/plain": [
              "np.float64(34.31049402150893)"
            ]
          },
          "metadata": {},
          "execution_count": 254
        }
      ]
    },
    {
      "cell_type": "code",
      "source": [
        "z_score=(data-mean)/std"
      ],
      "metadata": {
        "id": "YXQA-QvcaIa6"
      },
      "execution_count": 255,
      "outputs": []
    },
    {
      "cell_type": "code",
      "source": [
        "z_score"
      ],
      "metadata": {
        "colab": {
          "base_uri": "https://localhost:8080/"
        },
        "id": "SJTgeSJpaPgR",
        "outputId": "9242e244-7aea-4583-f6af-4270fb3b8c2f"
      },
      "execution_count": 256,
      "outputs": [
        {
          "output_type": "execute_result",
          "data": {
            "text/plain": [
              "array([-0.64994692, -0.59165572, -0.56251012, -0.53336451, -0.50421891,\n",
              "       -0.47507331, -0.44592771, -0.21276289,  1.97315725,  2.00230285])"
            ]
          },
          "metadata": {},
          "execution_count": 256
        }
      ]
    },
    {
      "cell_type": "code",
      "source": [
        "z_score[z_score>1]"
      ],
      "metadata": {
        "colab": {
          "base_uri": "https://localhost:8080/"
        },
        "id": "zmIXjCD9aQvS",
        "outputId": "cfcbaf2c-7d7a-4768-abf3-ec170be9f8fe"
      },
      "execution_count": 257,
      "outputs": [
        {
          "output_type": "execute_result",
          "data": {
            "text/plain": [
              "array([1.97315725, 2.00230285])"
            ]
          },
          "metadata": {},
          "execution_count": 257
        }
      ]
    },
    {
      "cell_type": "code",
      "source": [
        "data[z_score>1]"
      ],
      "metadata": {
        "colab": {
          "base_uri": "https://localhost:8080/"
        },
        "id": "qD3ZEkNAatyn",
        "outputId": "70a4b0b8-b324-47b6-c725-e0240302df2b"
      },
      "execution_count": 258,
      "outputs": [
        {
          "output_type": "execute_result",
          "data": {
            "text/plain": [
              "array([100, 101])"
            ]
          },
          "metadata": {},
          "execution_count": 258
        }
      ]
    },
    {
      "cell_type": "markdown",
      "source": [
        "MATH EQUATİONS"
      ],
      "metadata": {
        "id": "mpQnx8zLbLwD"
      }
    },
    {
      "cell_type": "code",
      "source": [
        "# 2x+3y=8 // 5x+7y=19"
      ],
      "metadata": {
        "id": "Oz_GIH5Ia1eG"
      },
      "execution_count": 259,
      "outputs": []
    },
    {
      "cell_type": "code",
      "source": [
        "#coefficent için\n",
        "A=np.array([[2,3],[5,7]])"
      ],
      "metadata": {
        "id": "ftZaWRcfbT8D"
      },
      "execution_count": 260,
      "outputs": []
    },
    {
      "cell_type": "code",
      "source": [
        "# constant için\n",
        "b=np.array([8,19])"
      ],
      "metadata": {
        "id": "EcEnfM6_bdgg"
      },
      "execution_count": 261,
      "outputs": []
    },
    {
      "cell_type": "code",
      "source": [
        "solution= np.linalg.solve(A,b) # bu fonksiyon linear algebra dan gelir"
      ],
      "metadata": {
        "id": "6DRiqSuHbiz5"
      },
      "execution_count": 262,
      "outputs": []
    },
    {
      "cell_type": "code",
      "source": [
        "solution"
      ],
      "metadata": {
        "colab": {
          "base_uri": "https://localhost:8080/"
        },
        "id": "6e92myKTbmio",
        "outputId": "c9047fb3-6a08-49ac-dd09-cb53d62e1b14"
      },
      "execution_count": 263,
      "outputs": [
        {
          "output_type": "execute_result",
          "data": {
            "text/plain": [
              "array([1., 2.])"
            ]
          },
          "metadata": {},
          "execution_count": 263
        }
      ]
    },
    {
      "cell_type": "code",
      "source": [],
      "metadata": {
        "id": "6q5Yj0VLbnv4"
      },
      "execution_count": 263,
      "outputs": []
    }
  ]
}