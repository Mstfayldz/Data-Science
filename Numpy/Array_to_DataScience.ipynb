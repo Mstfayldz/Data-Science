{
  "cells": [
    {
      "cell_type": "markdown",
      "metadata": {
        "colab_type": "text",
        "id": "view-in-github"
      },
      "source": [
        "<a href=\"https://colab.research.google.com/github/Mstfayldz/Data-Science/blob/master/Array_to_DataScience.ipynb\" target=\"_parent\"><img src=\"https://colab.research.google.com/assets/colab-badge.svg\" alt=\"Open In Colab\"/></a>"
      ]
    },
    {
      "cell_type": "code",
      "execution_count": 85,
      "metadata": {
        "id": "h9ScVP_DMNR8"
      },
      "outputs": [],
      "source": [
        "import numpy as np\n",
        "#pip install numpy yüklü değilse"
      ]
    },
    {
      "cell_type": "markdown",
      "metadata": {
        "id": "7wYCAf4GEzrt"
      },
      "source": [
        "# ARRAY"
      ]
    },
    {
      "cell_type": "code",
      "execution_count": 86,
      "metadata": {
        "id": "eMBf6NxbMV1C"
      },
      "outputs": [],
      "source": [
        "my_list=[10,20,30,40]"
      ]
    },
    {
      "cell_type": "code",
      "execution_count": 87,
      "metadata": {
        "colab": {
          "base_uri": "https://localhost:8080/"
        },
        "id": "rSFTtLwADlSD",
        "outputId": "d8fe25f4-421e-44cc-f66d-f1761ebc4aa8"
      },
      "outputs": [
        {
          "data": {
            "text/plain": [
              "array([10, 20, 30, 40])"
            ]
          },
          "execution_count": 87,
          "metadata": {},
          "output_type": "execute_result"
        }
      ],
      "source": [
        "np.array(my_list)"
      ]
    },
    {
      "cell_type": "code",
      "execution_count": 88,
      "metadata": {
        "id": "m21lDbx4DuZ9"
      },
      "outputs": [],
      "source": [
        "my_np_array=np.array(my_list)"
      ]
    },
    {
      "cell_type": "code",
      "execution_count": 89,
      "metadata": {
        "colab": {
          "base_uri": "https://localhost:8080/"
        },
        "id": "R4b0ZIEkECak",
        "outputId": "7158d410-3627-4934-8543-7c73e55558f4"
      },
      "outputs": [
        {
          "data": {
            "text/plain": [
              "numpy.ndarray"
            ]
          },
          "execution_count": 89,
          "metadata": {},
          "output_type": "execute_result"
        }
      ],
      "source": [
        "type(my_np_array)"
      ]
    },
    {
      "cell_type": "code",
      "execution_count": 90,
      "metadata": {
        "colab": {
          "base_uri": "https://localhost:8080/"
        },
        "id": "cliKVT4eEE-_",
        "outputId": "409da001-32d5-4f48-b0d2-2adb540ea879"
      },
      "outputs": [
        {
          "data": {
            "text/plain": [
              "np.int64(40)"
            ]
          },
          "execution_count": 90,
          "metadata": {},
          "output_type": "execute_result"
        }
      ],
      "source": [
        "my_np_array.max()"
      ]
    },
    {
      "cell_type": "code",
      "execution_count": 91,
      "metadata": {
        "colab": {
          "base_uri": "https://localhost:8080/"
        },
        "id": "65IxRpmuE8Gq",
        "outputId": "b36dc7fc-f99e-43b2-990d-6e09afe25a83"
      },
      "outputs": [
        {
          "data": {
            "text/plain": [
              "array([1., 1., 1., 1., 1.])"
            ]
          },
          "execution_count": 91,
          "metadata": {},
          "output_type": "execute_result"
        }
      ],
      "source": [
        "np.ones(5)\n",
        "#5 tane içinde 1 bulunduran array yazdırır"
      ]
    },
    {
      "cell_type": "code",
      "execution_count": 92,
      "metadata": {
        "colab": {
          "base_uri": "https://localhost:8080/"
        },
        "id": "b8-Ev-UOFFdC",
        "outputId": "ad131422-9b38-4614-9424-d75d5523a458"
      },
      "outputs": [
        {
          "data": {
            "text/plain": [
              "array([0., 0., 0., 0., 0.])"
            ]
          },
          "execution_count": 92,
          "metadata": {},
          "output_type": "execute_result"
        }
      ],
      "source": [
        "np.zeros(5)\n",
        "# 5 tane içinde 0 bulunduran array yazdırır"
      ]
    },
    {
      "cell_type": "code",
      "execution_count": 93,
      "metadata": {
        "colab": {
          "base_uri": "https://localhost:8080/"
        },
        "id": "9kv6CUI4FNfh",
        "outputId": "d5d1df3a-8780-4b7d-f1f4-edfee18bd47f"
      },
      "outputs": [
        {
          "data": {
            "text/plain": [
              "array([0.78125541, 0.06704844, 0.87215263, 0.74071841, 0.88082716])"
            ]
          },
          "execution_count": 93,
          "metadata": {},
          "output_type": "execute_result"
        }
      ],
      "source": [
        "np.random.random(5)\n",
        "#random 5 tane sayı barındıran array yazar"
      ]
    },
    {
      "cell_type": "markdown",
      "metadata": {
        "id": "GHEPNM1AFjVH"
      },
      "source": [
        "ARRAY ARITMETIC"
      ]
    },
    {
      "cell_type": "code",
      "execution_count": 94,
      "metadata": {
        "id": "2VtVbuFBFU0l"
      },
      "outputs": [],
      "source": [
        "my_list1=[1,2]"
      ]
    },
    {
      "cell_type": "code",
      "execution_count": 95,
      "metadata": {
        "id": "cL_3wbupF4_q"
      },
      "outputs": [],
      "source": [
        "my_list2=[2,3]"
      ]
    },
    {
      "cell_type": "code",
      "execution_count": 96,
      "metadata": {
        "colab": {
          "base_uri": "https://localhost:8080/"
        },
        "id": "02RBlG-uF8Mj",
        "outputId": "509f9ef0-d480-49cc-f015-03c9a057acc2"
      },
      "outputs": [
        {
          "data": {
            "text/plain": [
              "[1, 2, 2, 3]"
            ]
          },
          "execution_count": 96,
          "metadata": {},
          "output_type": "execute_result"
        }
      ],
      "source": [
        "my_list1+my_list2"
      ]
    },
    {
      "cell_type": "code",
      "execution_count": 97,
      "metadata": {
        "id": "kxc5bDN4F-aC"
      },
      "outputs": [],
      "source": [
        "my_np_array1 = np.array(my_list1)"
      ]
    },
    {
      "cell_type": "code",
      "execution_count": 98,
      "metadata": {
        "id": "PS_UWsYiGBWn"
      },
      "outputs": [],
      "source": [
        "my_np_array2=np.array(my_list2)"
      ]
    },
    {
      "cell_type": "code",
      "execution_count": 99,
      "metadata": {
        "id": "MIGKjajzGMHz"
      },
      "outputs": [],
      "source": [
        "#arraylarda toplama listelerdeki gibi birleştirme şeklinde olmaz her aynı indexe sahip olsan sayılar toplanır"
      ]
    },
    {
      "cell_type": "code",
      "execution_count": 100,
      "metadata": {
        "colab": {
          "base_uri": "https://localhost:8080/"
        },
        "id": "DjlCpIa2GGIK",
        "outputId": "f87743f3-bd65-4915-b872-67fd47bebc42"
      },
      "outputs": [
        {
          "data": {
            "text/plain": [
              "array([3, 5])"
            ]
          },
          "execution_count": 100,
          "metadata": {},
          "output_type": "execute_result"
        }
      ],
      "source": [
        "my_np_array1+my_np_array2"
      ]
    },
    {
      "cell_type": "code",
      "execution_count": 101,
      "metadata": {
        "colab": {
          "base_uri": "https://localhost:8080/"
        },
        "id": "VYM-8keOGInt",
        "outputId": "ff1fa413-0450-4333-9a7c-843d27db49dd"
      },
      "outputs": [
        {
          "data": {
            "text/plain": [
              "array([-1, -1])"
            ]
          },
          "execution_count": 101,
          "metadata": {},
          "output_type": "execute_result"
        }
      ],
      "source": [
        "my_np_array1-my_np_array2"
      ]
    },
    {
      "cell_type": "code",
      "execution_count": 102,
      "metadata": {
        "colab": {
          "base_uri": "https://localhost:8080/"
        },
        "id": "zzvmwTVGGki6",
        "outputId": "fe064bf1-dac3-49c4-de1a-f733aa579e7a"
      },
      "outputs": [
        {
          "data": {
            "text/plain": [
              "array([2, 6])"
            ]
          },
          "execution_count": 102,
          "metadata": {},
          "output_type": "execute_result"
        }
      ],
      "source": [
        "my_np_array1* my_np_array2"
      ]
    },
    {
      "cell_type": "code",
      "execution_count": 103,
      "metadata": {
        "colab": {
          "base_uri": "https://localhost:8080/"
        },
        "id": "3AhgruTdGpRz",
        "outputId": "8bcea62e-8dab-4177-c586-c70cf598eb9c"
      },
      "outputs": [
        {
          "data": {
            "text/plain": [
              "array([0.5       , 0.66666667])"
            ]
          },
          "execution_count": 103,
          "metadata": {},
          "output_type": "execute_result"
        }
      ],
      "source": [
        "my_np_array1/my_np_array2"
      ]
    },
    {
      "cell_type": "code",
      "execution_count": 104,
      "metadata": {
        "colab": {
          "base_uri": "https://localhost:8080/"
        },
        "id": "Tv4LPD5hGuGM",
        "outputId": "36283bad-7636-4b7c-8b89-cc56bee7e3e7"
      },
      "outputs": [
        {
          "data": {
            "text/plain": [
              "[1, 2, 1, 2, 1, 2, 1, 2, 1, 2]"
            ]
          },
          "execution_count": 104,
          "metadata": {},
          "output_type": "execute_result"
        }
      ],
      "source": [
        "my_list1*5\n"
      ]
    },
    {
      "cell_type": "code",
      "execution_count": 105,
      "metadata": {
        "colab": {
          "base_uri": "https://localhost:8080/"
        },
        "id": "AU6wuN6OG6jr",
        "outputId": "6b172978-bc27-4ad8-bb20-ecc94f654182"
      },
      "outputs": [
        {
          "data": {
            "text/plain": [
              "array([ 5, 10])"
            ]
          },
          "execution_count": 105,
          "metadata": {},
          "output_type": "execute_result"
        }
      ],
      "source": [
        "my_np_array1*5"
      ]
    },
    {
      "cell_type": "code",
      "execution_count": 106,
      "metadata": {
        "id": "5xhx23poG95U"
      },
      "outputs": [],
      "source": [
        "my_np_array3=np.array([10,20,30,40])"
      ]
    },
    {
      "cell_type": "markdown",
      "metadata": {
        "id": "A6kPPp2SH-mR"
      },
      "source": [
        "BROADCASTİNG==> İşlem yapılacak iki farklı arrayın boyutlarının veya index sayılarının eşit olmadığı durumda yapılacak olan işlemlerdir"
      ]
    },
    {
      "cell_type": "code",
      "execution_count": 107,
      "metadata": {
        "id": "QqkV3sY8H73y"
      },
      "outputs": [],
      "source": [
        "#my_np_array3*my_np_array1 hata verir"
      ]
    },
    {
      "cell_type": "code",
      "execution_count": 108,
      "metadata": {
        "id": "sLEXYqXyIN9D"
      },
      "outputs": [],
      "source": [
        "my_np_array4=np.array([10])"
      ]
    },
    {
      "cell_type": "code",
      "execution_count": 109,
      "metadata": {
        "colab": {
          "base_uri": "https://localhost:8080/"
        },
        "id": "rQjghEw6IUnI",
        "outputId": "c143c195-bae0-41c6-9644-3e2d57f6b92e"
      },
      "outputs": [
        {
          "data": {
            "text/plain": [
              "array([100, 200, 300, 400])"
            ]
          },
          "execution_count": 109,
          "metadata": {},
          "output_type": "execute_result"
        }
      ],
      "source": [
        "my_np_array3*my_np_array4# tek indexlilerde sorun çıkmaz"
      ]
    },
    {
      "cell_type": "markdown",
      "metadata": {
        "id": "YcaNuU5GBuL6"
      },
      "source": [
        "arange,index"
      ]
    },
    {
      "cell_type": "code",
      "execution_count": 110,
      "metadata": {
        "colab": {
          "base_uri": "https://localhost:8080/"
        },
        "id": "7qe4uxXjIXKw",
        "outputId": "68018d33-b34e-4860-df62-505dddafed7d"
      },
      "outputs": [
        {
          "data": {
            "text/plain": [
              "[0, 1, 2, 3, 4, 5, 6, 7, 8, 9]"
            ]
          },
          "execution_count": 110,
          "metadata": {},
          "output_type": "execute_result"
        }
      ],
      "source": [
        "list(range(10))"
      ]
    },
    {
      "cell_type": "code",
      "execution_count": 111,
      "metadata": {
        "colab": {
          "base_uri": "https://localhost:8080/"
        },
        "id": "zpmunIZKB0FY",
        "outputId": "35fbe2f2-33da-4980-c546-18a9e89d2fb9"
      },
      "outputs": [
        {
          "data": {
            "text/plain": [
              "array([0, 1, 2, 3, 4, 5, 6, 7, 8, 9])"
            ]
          },
          "execution_count": 111,
          "metadata": {},
          "output_type": "execute_result"
        }
      ],
      "source": [
        "np.arange(10)"
      ]
    },
    {
      "cell_type": "code",
      "execution_count": 112,
      "metadata": {
        "colab": {
          "base_uri": "https://localhost:8080/"
        },
        "id": "KzXvRAgkCNPP",
        "outputId": "f80084f5-641d-4364-f926-21750a8563fa"
      },
      "outputs": [
        {
          "data": {
            "text/plain": [
              "array([2, 3, 4, 5, 6, 7, 8, 9])"
            ]
          },
          "execution_count": 112,
          "metadata": {},
          "output_type": "execute_result"
        }
      ],
      "source": [
        "np.arange(2,10)"
      ]
    },
    {
      "cell_type": "code",
      "execution_count": 113,
      "metadata": {
        "id": "uAm3F45cB5pY"
      },
      "outputs": [],
      "source": [
        "np_array=np.arange(10)"
      ]
    },
    {
      "cell_type": "code",
      "execution_count": 114,
      "metadata": {
        "colab": {
          "base_uri": "https://localhost:8080/"
        },
        "id": "9xTNs46dCPt-",
        "outputId": "261ff242-78b4-4b1f-fc30-99e5e76bcbe4"
      },
      "outputs": [
        {
          "data": {
            "text/plain": [
              "np.int64(0)"
            ]
          },
          "execution_count": 114,
          "metadata": {},
          "output_type": "execute_result"
        }
      ],
      "source": [
        "np_array[0]"
      ]
    },
    {
      "cell_type": "code",
      "execution_count": 115,
      "metadata": {
        "colab": {
          "base_uri": "https://localhost:8080/"
        },
        "id": "gRwyabkdCReG",
        "outputId": "024fa0f1-215e-41ab-e766-39a413c9f274"
      },
      "outputs": [
        {
          "data": {
            "text/plain": [
              "np.int64(9)"
            ]
          },
          "execution_count": 115,
          "metadata": {},
          "output_type": "execute_result"
        }
      ],
      "source": [
        "np_array[-1]"
      ]
    },
    {
      "cell_type": "code",
      "execution_count": 116,
      "metadata": {
        "colab": {
          "base_uri": "https://localhost:8080/"
        },
        "id": "dCy_IMAICWrQ",
        "outputId": "2f73f4d4-33a3-4eca-a2e1-9d0acba5776f"
      },
      "outputs": [
        {
          "data": {
            "text/plain": [
              "array([1, 2])"
            ]
          },
          "execution_count": 116,
          "metadata": {},
          "output_type": "execute_result"
        }
      ],
      "source": [
        "np_array[1:3]"
      ]
    },
    {
      "cell_type": "code",
      "execution_count": 117,
      "metadata": {
        "colab": {
          "base_uri": "https://localhost:8080/"
        },
        "id": "ufetSngYCeRh",
        "outputId": "3ebfe6ba-9198-4f36-b967-f9c2b9a700fd"
      },
      "outputs": [
        {
          "data": {
            "text/plain": [
              "array([9, 8, 7, 6, 5, 4, 3, 2, 1, 0])"
            ]
          },
          "execution_count": 117,
          "metadata": {},
          "output_type": "execute_result"
        }
      ],
      "source": [
        "np_array[::-1]"
      ]
    },
    {
      "cell_type": "code",
      "execution_count": 118,
      "metadata": {
        "colab": {
          "base_uri": "https://localhost:8080/"
        },
        "id": "RaSS1444Cj_0",
        "outputId": "82f0e455-c3ac-433f-80fb-24dae8679089"
      },
      "outputs": [
        {
          "data": {
            "text/plain": [
              "array([[-0.02443635,  0.20273577,  0.00477915,  0.15505372],\n",
              "       [-0.05775321, -0.88979282, -0.04157512,  0.45462884],\n",
              "       [-1.35443163,  0.64052698,  0.1373978 ,  0.81970625],\n",
              "       [-0.59419995, -0.02791919, -0.89276569,  1.65328143]])"
            ]
          },
          "execution_count": 118,
          "metadata": {},
          "output_type": "execute_result"
        }
      ],
      "source": [
        "np.random.randn(4,4)#4 e 4 dimensionlu matris"
      ]
    },
    {
      "cell_type": "code",
      "execution_count": 119,
      "metadata": {
        "colab": {
          "base_uri": "https://localhost:8080/"
        },
        "id": "xpLWkKoYC_8m",
        "outputId": "cacd00e1-5035-4b71-dfe3-bfad27422049"
      },
      "outputs": [
        {
          "data": {
            "text/plain": [
              "array([  5, 184, 281, 133, 149])"
            ]
          },
          "execution_count": 119,
          "metadata": {},
          "output_type": "execute_result"
        }
      ],
      "source": [
        "np.random.randint(1,300,5)# 1-300 arası bana 5 tane random integer ver"
      ]
    },
    {
      "cell_type": "code",
      "execution_count": 119,
      "metadata": {
        "id": "dYHO5LFXDLQh"
      },
      "outputs": [],
      "source": []
    }
  ],
  "metadata": {
    "colab": {
      "authorship_tag": "ABX9TyMsDzhAhEwB+C4XHDCMo0J4",
      "include_colab_link": true,
      "provenance": []
    },
    "kernelspec": {
      "display_name": "Python 3",
      "name": "python3"
    },
    "language_info": {
      "name": "python"
    }
  },
  "nbformat": 4,
  "nbformat_minor": 0
}
