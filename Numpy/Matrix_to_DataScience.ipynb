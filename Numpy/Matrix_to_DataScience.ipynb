{
  "cells": [
    {
      "cell_type": "markdown",
      "metadata": {
        "colab_type": "text",
        "id": "view-in-github"
      },
      "source": [
        "<a href=\"https://colab.research.google.com/github/Mstfayldz/Data-Science/blob/master/Matrix_to_DataScience.ipynb\" target=\"_parent\"><img src=\"https://colab.research.google.com/assets/colab-badge.svg\" alt=\"Open In Colab\"/></a>"
      ]
    },
    {
      "cell_type": "markdown",
      "metadata": {
        "id": "TxL_hiZRGGA4"
      },
      "source": [
        "# MATRIX"
      ]
    },
    {
      "cell_type": "code",
      "execution_count": 2,
      "metadata": {
        "id": "Vnn3jH7eox5D"
      },
      "outputs": [],
      "source": [
        "import numpy as np"
      ]
    },
    {
      "cell_type": "markdown",
      "metadata": {
        "id": "phBcRnhipSYm"
      },
      "source": [
        "row*column"
      ]
    },
    {
      "cell_type": "code",
      "execution_count": 3,
      "metadata": {
        "id": "VpcbiZR6F_sC"
      },
      "outputs": [],
      "source": [
        "my_matrix=[[1,2],[3,4]]"
      ]
    },
    {
      "cell_type": "code",
      "execution_count": 4,
      "metadata": {
        "colab": {
          "base_uri": "https://localhost:8080/"
        },
        "id": "EU53Jtlcoi_-",
        "outputId": "1893af8c-220e-4b9f-f322-a355873466b2"
      },
      "outputs": [
        {
          "data": {
            "text/plain": [
              "[[1, 2], [3, 4]]"
            ]
          },
          "execution_count": 4,
          "metadata": {},
          "output_type": "execute_result"
        }
      ],
      "source": [
        "my_matrix"
      ]
    },
    {
      "cell_type": "code",
      "execution_count": 5,
      "metadata": {
        "colab": {
          "base_uri": "https://localhost:8080/"
        },
        "id": "Fm5Xf3E4ok9O",
        "outputId": "28195a7e-5433-4886-a71d-1418288e1578"
      },
      "outputs": [
        {
          "data": {
            "text/plain": [
              "2"
            ]
          },
          "execution_count": 5,
          "metadata": {},
          "output_type": "execute_result"
        }
      ],
      "source": [
        "my_matrix[0][1]"
      ]
    },
    {
      "cell_type": "code",
      "execution_count": 6,
      "metadata": {
        "colab": {
          "base_uri": "https://localhost:8080/"
        },
        "id": "QvLpSMjZopkm",
        "outputId": "c4d246c1-eb20-4e84-e01d-3a1f604460f8"
      },
      "outputs": [
        {
          "data": {
            "text/plain": [
              "array([[1., 1., 1.],\n",
              "       [1., 1., 1.],\n",
              "       [1., 1., 1.]])"
            ]
          },
          "execution_count": 6,
          "metadata": {},
          "output_type": "execute_result"
        }
      ],
      "source": [
        "np.ones((3,3))"
      ]
    },
    {
      "cell_type": "code",
      "execution_count": 7,
      "metadata": {
        "colab": {
          "base_uri": "https://localhost:8080/"
        },
        "id": "q6jDMIQqo7Fp",
        "outputId": "8f344bee-88df-4518-cad2-e484a404ccaa"
      },
      "outputs": [
        {
          "data": {
            "text/plain": [
              "array([[0.55191798, 0.67936075, 0.92353568, 0.19344978],\n",
              "       [0.36436655, 0.46397254, 0.85791315, 0.62247415],\n",
              "       [0.34896572, 0.34610854, 0.27601829, 0.09709852],\n",
              "       [0.54797884, 0.1227622 , 0.67764708, 0.88029278]])"
            ]
          },
          "execution_count": 7,
          "metadata": {},
          "output_type": "execute_result"
        }
      ],
      "source": [
        "np.random.random((4,4))"
      ]
    },
    {
      "cell_type": "code",
      "execution_count": 8,
      "metadata": {
        "colab": {
          "base_uri": "https://localhost:8080/"
        },
        "id": "OLZAhigio-hA",
        "outputId": "7c7fc96a-adfb-4685-97a7-b7c24f3ff9f4"
      },
      "outputs": [
        {
          "data": {
            "text/plain": [
              "array([[0.55152054, 0.34826401, 0.66489484, 0.98481263],\n",
              "       [0.75385512, 0.20830662, 0.76106483, 0.7241565 ],\n",
              "       [0.80940109, 0.74209892, 0.91800701, 0.85742667],\n",
              "       [0.72703142, 0.76949181, 0.41818143, 0.23694431]])"
            ]
          },
          "execution_count": 8,
          "metadata": {},
          "output_type": "execute_result"
        }
      ],
      "source": [
        "np.random.rand(4,4)"
      ]
    },
    {
      "cell_type": "code",
      "execution_count": 9,
      "metadata": {
        "id": "a0SwZofypNes"
      },
      "outputs": [],
      "source": [
        "np_matrix=np.array([[5,10],[15,20]])"
      ]
    },
    {
      "cell_type": "code",
      "execution_count": 10,
      "metadata": {
        "colab": {
          "base_uri": "https://localhost:8080/"
        },
        "id": "a6O5QYwepzqr",
        "outputId": "e732e885-e1b3-46fe-dc2d-a969d41cd9c1"
      },
      "outputs": [
        {
          "data": {
            "text/plain": [
              "np.int64(50)"
            ]
          },
          "execution_count": 10,
          "metadata": {},
          "output_type": "execute_result"
        }
      ],
      "source": [
        "np_matrix.sum()\n",
        "#print(np_matrix.sum()) yazılabilir doğrusu da budur"
      ]
    },
    {
      "cell_type": "markdown",
      "metadata": {
        "id": "y6ibKY7uQ4x9"
      },
      "source": [
        "MATRIX ARITMETIC"
      ]
    },
    {
      "cell_type": "code",
      "execution_count": 11,
      "metadata": {
        "id": "eAAUe6Yyp2jz"
      },
      "outputs": [],
      "source": [
        "first_array=np.array([[10,20],[30,40]])"
      ]
    },
    {
      "cell_type": "code",
      "execution_count": 12,
      "metadata": {
        "id": "q1PCwaOvp6SA"
      },
      "outputs": [],
      "source": [
        "second_array=np.array([[5,10],[15,20]])"
      ]
    },
    {
      "cell_type": "code",
      "execution_count": 13,
      "metadata": {
        "colab": {
          "base_uri": "https://localhost:8080/"
        },
        "id": "_N1i55UvRx2B",
        "outputId": "e6548b73-c708-4ce8-9c58-8ccac4de36c6"
      },
      "outputs": [
        {
          "data": {
            "text/plain": [
              "array([[15, 30],\n",
              "       [45, 60]])"
            ]
          },
          "execution_count": 13,
          "metadata": {},
          "output_type": "execute_result"
        }
      ],
      "source": [
        "first_array+second_array"
      ]
    },
    {
      "cell_type": "code",
      "execution_count": 14,
      "metadata": {
        "id": "hA0QxgHgRzkB"
      },
      "outputs": [],
      "source": [
        "third_array=np.array([[1,2]])"
      ]
    },
    {
      "cell_type": "code",
      "execution_count": 15,
      "metadata": {
        "colab": {
          "base_uri": "https://localhost:8080/"
        },
        "id": "aTziXA6HR4fW",
        "outputId": "9c957828-e181-4886-a0ad-16ad91522108"
      },
      "outputs": [
        {
          "data": {
            "text/plain": [
              "array([[11, 22],\n",
              "       [31, 42]])"
            ]
          },
          "execution_count": 15,
          "metadata": {},
          "output_type": "execute_result"
        }
      ],
      "source": [
        "first_array+third_array\n",
        "#Broadcasting olayı olur row-column yani dimensions olarak aynı olmasalar da tek row olduğu için iki row a da bu tek row eklendi\n"
      ]
    },
    {
      "cell_type": "code",
      "execution_count": 16,
      "metadata": {
        "id": "2kM_ICVcR6nT"
      },
      "outputs": [],
      "source": [
        "foutrh_array=np.array([[10,15],[20,25],[30,35]])"
      ]
    },
    {
      "cell_type": "code",
      "execution_count": 17,
      "metadata": {
        "id": "jwE37FbBSTRK"
      },
      "outputs": [],
      "source": [
        "#first_array+foutrh_array #broadcasting hatası olur shapeler==>dimensionslar aynı değildir"
      ]
    },
    {
      "cell_type": "code",
      "execution_count": 18,
      "metadata": {
        "colab": {
          "base_uri": "https://localhost:8080/"
        },
        "id": "ugpTTl-jSVLm",
        "outputId": "82b05883-da14-493a-e6b8-7abb3ebc6d8f"
      },
      "outputs": [
        {
          "data": {
            "text/plain": [
              "(2, 2)"
            ]
          },
          "execution_count": 18,
          "metadata": {},
          "output_type": "execute_result"
        }
      ],
      "source": [
        "first_array.shape\n",
        "# second_array.shape\n",
        "# third_array.shape          =====>> her zaman (row,column)\n",
        "# foutrh_array.shape\n"
      ]
    },
    {
      "cell_type": "markdown",
      "metadata": {
        "id": "S_W0JXToUCgJ"
      },
      "source": [
        "MATRIX MULTIPLICATION ==> burada aslında dot product işlemi yapılır ilk matisin rowu ikinci matrisin de columnu alınır ve sonuç matrisinin  sahpe'i böyle belirlenir işlemler içinse ilk arrayın ilk row u ikinci arrayın ilk column u ile çarpılır ve hepsi tek tek toplanır ve sonra ilk elamn olarak yazılır sonra ilk arrayın ilk rowu ikinci arrayın 2. columnuyla aynı şekilde devam eder. Ama ilk arrayın columnu ile ikinci arrayın row değerlerinin de eşit olması gerekir örneğin: 1x3  3x2"
      ]
    },
    {
      "cell_type": "code",
      "execution_count": 19,
      "metadata": {
        "id": "bSVtgF5RS1fY"
      },
      "outputs": [],
      "source": [
        "multy_array1=np.array([[1,2,3]])"
      ]
    },
    {
      "cell_type": "code",
      "execution_count": 20,
      "metadata": {
        "id": "c6YwtgGyU9zJ"
      },
      "outputs": [],
      "source": [
        "multy_array2=np.array([[4,2],[5,3],[6,4]])"
      ]
    },
    {
      "cell_type": "code",
      "execution_count": 21,
      "metadata": {
        "id": "6g98bV8UVAf2"
      },
      "outputs": [],
      "source": [
        "result_matrix=multy_array1.dot(multy_array2)#==> 1*4=4 , 2*5=10 , 3*6=18 => toplamı 32 /// 1*2=2 ,  2*3=6 , 3*4=12 => toplamı 20"
      ]
    },
    {
      "cell_type": "code",
      "execution_count": 22,
      "metadata": {
        "colab": {
          "base_uri": "https://localhost:8080/"
        },
        "id": "1EYQVy4KVzmB",
        "outputId": "3923b820-67cd-4b07-d615-320e78ccf1bc"
      },
      "outputs": [
        {
          "data": {
            "text/plain": [
              "array([[32, 20]])"
            ]
          },
          "execution_count": 22,
          "metadata": {},
          "output_type": "execute_result"
        }
      ],
      "source": [
        "result_matrix"
      ]
    },
    {
      "cell_type": "code",
      "execution_count": 23,
      "metadata": {
        "colab": {
          "base_uri": "https://localhost:8080/"
        },
        "id": "xdcoIXGwWioR",
        "outputId": "23ec433b-ce7b-411a-cc09-2b01456e5eea"
      },
      "outputs": [
        {
          "data": {
            "text/plain": [
              "(1, 2)"
            ]
          },
          "execution_count": 23,
          "metadata": {},
          "output_type": "execute_result"
        }
      ],
      "source": [
        "result_matrix.shape"
      ]
    },
    {
      "cell_type": "markdown",
      "metadata": {
        "id": "HJsXf-RJXP7i"
      },
      "source": [
        "Numpy Examples"
      ]
    },
    {
      "cell_type": "code",
      "execution_count": 24,
      "metadata": {
        "id": "pP-ORe6IWkGy"
      },
      "outputs": [],
      "source": [
        "new_array= np.random.randint(1,101,20)"
      ]
    },
    {
      "cell_type": "code",
      "execution_count": 25,
      "metadata": {
        "colab": {
          "base_uri": "https://localhost:8080/"
        },
        "id": "gG2gq36DXjJI",
        "outputId": "89ecb796-b7a9-4bc5-a3a2-8ad9a79d2098"
      },
      "outputs": [
        {
          "data": {
            "text/plain": [
              "array([78, 55, 32, 18, 61, 44, 58, 36, 88, 66, 24, 81, 38, 73, 17, 13, 38,\n",
              "       45, 72, 33], dtype=int32)"
            ]
          },
          "execution_count": 25,
          "metadata": {},
          "output_type": "execute_result"
        }
      ],
      "source": [
        "new_array"
      ]
    },
    {
      "cell_type": "code",
      "execution_count": 26,
      "metadata": {
        "colab": {
          "base_uri": "https://localhost:8080/"
        },
        "id": "7gJdDU3sXxwF",
        "outputId": "09bc1a6d-d3ac-4d8e-bfec-64ab477185b3"
      },
      "outputs": [
        {
          "data": {
            "text/plain": [
              "array([ True,  True,  True, False,  True,  True,  True,  True,  True,\n",
              "        True, False,  True,  True,  True, False, False,  True,  True,\n",
              "        True,  True])"
            ]
          },
          "execution_count": 26,
          "metadata": {},
          "output_type": "execute_result"
        }
      ],
      "source": [
        "new_array>25"
      ]
    },
    {
      "cell_type": "code",
      "execution_count": 27,
      "metadata": {
        "colab": {
          "base_uri": "https://localhost:8080/"
        },
        "id": "8oNSbvcpXkU6",
        "outputId": "1a27bad0-5139-46fc-d803-486cd45596c4"
      },
      "outputs": [
        {
          "data": {
            "text/plain": [
              "array([78, 55, 32, 61, 44, 58, 36, 88, 66, 81, 38, 73, 38, 45, 72, 33],\n",
              "      dtype=int32)"
            ]
          },
          "execution_count": 27,
          "metadata": {},
          "output_type": "execute_result"
        }
      ],
      "source": [
        "new_array[new_array>25]"
      ]
    },
    {
      "cell_type": "code",
      "execution_count": null,
      "metadata": {
        "id": "ZRnTFCQGX6Mp"
      },
      "outputs": [],
      "source": [
        "# transpose / reshape ==>transpose: row ve column değerlerini birbriyle değiştiriyor // reshape: kendi atadığımız değerle değiştiriyor"
      ]
    },
    {
      "cell_type": "code",
      "execution_count": null,
      "metadata": {
        "id": "QxGRNztnYm3N"
      },
      "outputs": [],
      "source": [
        "matrix_transpose= np.array([[1,2,3],[4,5,6]])"
      ]
    },
    {
      "cell_type": "code",
      "execution_count": null,
      "metadata": {
        "colab": {
          "base_uri": "https://localhost:8080/"
        },
        "id": "7opWaa9HYtoK",
        "outputId": "cdd0df90-7499-4aa1-e6e7-fc59ae5b7d4e"
      },
      "outputs": [
        {
          "data": {
            "text/plain": [
              "array([[1, 2, 3],\n",
              "       [4, 5, 6]])"
            ]
          },
          "execution_count": 244,
          "metadata": {},
          "output_type": "execute_result"
        }
      ],
      "source": [
        "matrix_transpose"
      ]
    },
    {
      "cell_type": "code",
      "execution_count": null,
      "metadata": {
        "colab": {
          "base_uri": "https://localhost:8080/"
        },
        "id": "mgL1nH5NYvtu",
        "outputId": "f5d53adb-76a7-47e7-8f9d-2dd64eb398e1"
      },
      "outputs": [
        {
          "data": {
            "text/plain": [
              "array([[1, 4],\n",
              "       [2, 5],\n",
              "       [3, 6]])"
            ]
          },
          "execution_count": 245,
          "metadata": {},
          "output_type": "execute_result"
        }
      ],
      "source": [
        "matrix_transpose.T#==> matrix_transpose.transpose() aynı fonksiyon"
      ]
    },
    {
      "cell_type": "code",
      "execution_count": null,
      "metadata": {
        "id": "RzZxVlJ2Y0EW"
      },
      "outputs": [],
      "source": [
        "matrix_reshape=np.random.random((6,1))"
      ]
    },
    {
      "cell_type": "code",
      "execution_count": null,
      "metadata": {
        "colab": {
          "base_uri": "https://localhost:8080/"
        },
        "id": "ao4BYOuXZCQQ",
        "outputId": "e8588c17-c271-4594-d757-eb373282f014"
      },
      "outputs": [
        {
          "data": {
            "text/plain": [
              "array([[0.83159381],\n",
              "       [0.48631992],\n",
              "       [0.08782138],\n",
              "       [0.80248396],\n",
              "       [0.16916383],\n",
              "       [0.56937339]])"
            ]
          },
          "execution_count": 247,
          "metadata": {},
          "output_type": "execute_result"
        }
      ],
      "source": [
        "matrix_reshape"
      ]
    },
    {
      "cell_type": "code",
      "execution_count": null,
      "metadata": {
        "colab": {
          "base_uri": "https://localhost:8080/"
        },
        "id": "DJ-NO_BSZDno",
        "outputId": "92c6bd51-0dcc-4385-b5a4-d260c5eb0081"
      },
      "outputs": [
        {
          "data": {
            "text/plain": [
              "array([[0.83159381, 0.48631992, 0.08782138],\n",
              "       [0.80248396, 0.16916383, 0.56937339]])"
            ]
          },
          "execution_count": 248,
          "metadata": {},
          "output_type": "execute_result"
        }
      ],
      "source": [
        "matrix_reshape.reshape(2,3)"
      ]
    },
    {
      "cell_type": "code",
      "execution_count": null,
      "metadata": {
        "id": "v5lDt9MSZWjO"
      },
      "outputs": [],
      "source": [
        "# Z-SCORES ==> outlier(çıkıntıları tespit etmek için harika bir yöntemdir) (data-mean)/std"
      ]
    },
    {
      "cell_type": "code",
      "execution_count": null,
      "metadata": {
        "id": "z7KG3p8wZ2LT"
      },
      "outputs": [],
      "source": [
        "data=np.array([10,12,13,14,15,16,17,25,100,101])"
      ]
    },
    {
      "cell_type": "code",
      "execution_count": null,
      "metadata": {
        "id": "s2eoWFhLaBVZ"
      },
      "outputs": [],
      "source": [
        "mean=data.mean()"
      ]
    },
    {
      "cell_type": "code",
      "execution_count": null,
      "metadata": {
        "colab": {
          "base_uri": "https://localhost:8080/"
        },
        "id": "29y74tWVaEQU",
        "outputId": "ccda7bed-e32b-4b33-88ee-e8968ec7f5bc"
      },
      "outputs": [
        {
          "data": {
            "text/plain": [
              "np.float64(32.3)"
            ]
          },
          "execution_count": 252,
          "metadata": {},
          "output_type": "execute_result"
        }
      ],
      "source": [
        "mean"
      ]
    },
    {
      "cell_type": "code",
      "execution_count": null,
      "metadata": {
        "id": "7d39sJTLaE6p"
      },
      "outputs": [],
      "source": [
        "std=data.std()"
      ]
    },
    {
      "cell_type": "code",
      "execution_count": null,
      "metadata": {
        "colab": {
          "base_uri": "https://localhost:8080/"
        },
        "id": "jpUhkObtaHjI",
        "outputId": "93c1974c-d0ac-42ca-af05-1af3b4bd632c"
      },
      "outputs": [
        {
          "data": {
            "text/plain": [
              "np.float64(34.31049402150893)"
            ]
          },
          "execution_count": 254,
          "metadata": {},
          "output_type": "execute_result"
        }
      ],
      "source": [
        "std"
      ]
    },
    {
      "cell_type": "code",
      "execution_count": null,
      "metadata": {
        "id": "YXQA-QvcaIa6"
      },
      "outputs": [],
      "source": [
        "z_score=(data-mean)/std"
      ]
    },
    {
      "cell_type": "code",
      "execution_count": null,
      "metadata": {
        "colab": {
          "base_uri": "https://localhost:8080/"
        },
        "id": "SJTgeSJpaPgR",
        "outputId": "9242e244-7aea-4583-f6af-4270fb3b8c2f"
      },
      "outputs": [
        {
          "data": {
            "text/plain": [
              "array([-0.64994692, -0.59165572, -0.56251012, -0.53336451, -0.50421891,\n",
              "       -0.47507331, -0.44592771, -0.21276289,  1.97315725,  2.00230285])"
            ]
          },
          "execution_count": 256,
          "metadata": {},
          "output_type": "execute_result"
        }
      ],
      "source": [
        "z_score"
      ]
    },
    {
      "cell_type": "code",
      "execution_count": null,
      "metadata": {
        "colab": {
          "base_uri": "https://localhost:8080/"
        },
        "id": "zmIXjCD9aQvS",
        "outputId": "cfcbaf2c-7d7a-4768-abf3-ec170be9f8fe"
      },
      "outputs": [
        {
          "data": {
            "text/plain": [
              "array([1.97315725, 2.00230285])"
            ]
          },
          "execution_count": 257,
          "metadata": {},
          "output_type": "execute_result"
        }
      ],
      "source": [
        "z_score[z_score>1]"
      ]
    },
    {
      "cell_type": "code",
      "execution_count": null,
      "metadata": {
        "colab": {
          "base_uri": "https://localhost:8080/"
        },
        "id": "qD3ZEkNAatyn",
        "outputId": "70a4b0b8-b324-47b6-c725-e0240302df2b"
      },
      "outputs": [
        {
          "data": {
            "text/plain": [
              "array([100, 101])"
            ]
          },
          "execution_count": 258,
          "metadata": {},
          "output_type": "execute_result"
        }
      ],
      "source": [
        "data[z_score>1]"
      ]
    },
    {
      "cell_type": "markdown",
      "metadata": {
        "id": "mpQnx8zLbLwD"
      },
      "source": [
        "MATH EQUATİONS"
      ]
    },
    {
      "cell_type": "code",
      "execution_count": null,
      "metadata": {
        "id": "Oz_GIH5Ia1eG"
      },
      "outputs": [],
      "source": [
        "# 2x+3y=8 // 5x+7y=19"
      ]
    },
    {
      "cell_type": "code",
      "execution_count": null,
      "metadata": {
        "id": "ftZaWRcfbT8D"
      },
      "outputs": [],
      "source": [
        "#coefficent için\n",
        "A=np.array([[2,3],[5,7]])"
      ]
    },
    {
      "cell_type": "code",
      "execution_count": null,
      "metadata": {
        "id": "EcEnfM6_bdgg"
      },
      "outputs": [],
      "source": [
        "# constant için\n",
        "b=np.array([8,19])"
      ]
    },
    {
      "cell_type": "code",
      "execution_count": null,
      "metadata": {
        "id": "6DRiqSuHbiz5"
      },
      "outputs": [],
      "source": [
        "solution= np.linalg.solve(A,b) # bu fonksiyon linear algebra dan gelir"
      ]
    },
    {
      "cell_type": "code",
      "execution_count": null,
      "metadata": {
        "colab": {
          "base_uri": "https://localhost:8080/"
        },
        "id": "6e92myKTbmio",
        "outputId": "c9047fb3-6a08-49ac-dd09-cb53d62e1b14"
      },
      "outputs": [
        {
          "data": {
            "text/plain": [
              "array([1., 2.])"
            ]
          },
          "execution_count": 263,
          "metadata": {},
          "output_type": "execute_result"
        }
      ],
      "source": [
        "solution"
      ]
    },
    {
      "cell_type": "code",
      "execution_count": null,
      "metadata": {
        "id": "6q5Yj0VLbnv4"
      },
      "outputs": [],
      "source": []
    }
  ],
  "metadata": {
    "colab": {
      "authorship_tag": "ABX9TyMxaujCMbRajEtwZ/mUGIdW",
      "include_colab_link": true,
      "provenance": []
    },
    "kernelspec": {
      "display_name": "Python 3",
      "name": "python3"
    },
    "language_info": {
      "codemirror_mode": {
        "name": "ipython",
        "version": 3
      },
      "file_extension": ".py",
      "mimetype": "text/x-python",
      "name": "python",
      "nbconvert_exporter": "python",
      "pygments_lexer": "ipython3",
      "version": "3.13.7"
    }
  },
  "nbformat": 4,
  "nbformat_minor": 0
}
