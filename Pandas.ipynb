{
  "cells": [
    {
      "cell_type": "markdown",
      "metadata": {
        "colab_type": "text",
        "id": "view-in-github"
      },
      "source": [
        "<a href=\"https://colab.research.google.com/github/Mstfayldz/Data-Science/blob/master/Pandas.ipynb\" target=\"_parent\"><img src=\"https://colab.research.google.com/assets/colab-badge.svg\" alt=\"Open In Colab\"/></a>"
      ]
    },
    {
      "cell_type": "code",
      "execution_count": 105,
      "metadata": {
        "id": "gqHbdNcflCwO"
      },
      "outputs": [],
      "source": [
        "import numpy as np\n"
      ]
    },
    {
      "cell_type": "code",
      "execution_count": 106,
      "metadata": {
        "id": "ntq2xHBvlHo5"
      },
      "outputs": [],
      "source": [
        "import pandas as pd"
      ]
    },
    {
      "cell_type": "code",
      "execution_count": 107,
      "metadata": {
        "id": "NoEhFiMFlKrR"
      },
      "outputs": [],
      "source": [
        "# pip install pandas eer yüklü değilse"
      ]
    },
    {
      "cell_type": "markdown",
      "metadata": {
        "id": "OUbAcfCelRml"
      },
      "source": [
        "# SERIES ==> tek column arraylar için one dimension"
      ]
    },
    {
      "cell_type": "code",
      "execution_count": 108,
      "metadata": {
        "id": "huXkvVStlUiI"
      },
      "outputs": [],
      "source": [
        "grades={\"Atil\":50,\"James\":60,\"Lars\":70}"
      ]
    },
    {
      "cell_type": "code",
      "execution_count": 109,
      "metadata": {
        "colab": {
          "base_uri": "https://localhost:8080/"
        },
        "id": "2YDswfEJyfPh",
        "outputId": "083f4981-e962-4343-a68d-38810d4562e5"
      },
      "outputs": [
        {
          "name": "stdout",
          "output_type": "stream",
          "text": [
            "Atil     50\n",
            "James    60\n",
            "Lars     70\n",
            "dtype: int64\n"
          ]
        }
      ],
      "source": [
        "print(pd.Series(grades))"
      ]
    },
    {
      "cell_type": "code",
      "execution_count": 110,
      "metadata": {
        "id": "1XQibr7Kyiei"
      },
      "outputs": [],
      "source": [
        "names=[\"Atil\",\"James\",\"Lars\"]"
      ]
    },
    {
      "cell_type": "code",
      "execution_count": 111,
      "metadata": {
        "colab": {
          "base_uri": "https://localhost:8080/"
        },
        "id": "dTv1QKqOyv_H",
        "outputId": "a0dffee1-5a34-40f1-b194-4a2f199925bf"
      },
      "outputs": [
        {
          "name": "stdout",
          "output_type": "stream",
          "text": [
            "0     Atil\n",
            "1    James\n",
            "2     Lars\n",
            "dtype: object\n"
          ]
        }
      ],
      "source": [
        "print(pd.Series(names))"
      ]
    },
    {
      "cell_type": "code",
      "execution_count": 112,
      "metadata": {
        "id": "oERCj0u1y-tV"
      },
      "outputs": [],
      "source": [
        "grade=[50,60,70]"
      ]
    },
    {
      "cell_type": "code",
      "execution_count": 113,
      "metadata": {
        "colab": {
          "base_uri": "https://localhost:8080/"
        },
        "id": "KUw7vNQWyy2g",
        "outputId": "84feeeda-6273-4c40-ea87-1da24a80a839"
      },
      "outputs": [
        {
          "name": "stdout",
          "output_type": "stream",
          "text": [
            "Atil     50\n",
            "James    60\n",
            "Lars     70\n",
            "dtype: int64\n"
          ]
        }
      ],
      "source": [
        "print(pd.Series(data=grade, index=names))"
      ]
    },
    {
      "cell_type": "code",
      "execution_count": 114,
      "metadata": {
        "id": "Va5ac4HazMSi"
      },
      "outputs": [],
      "source": [
        "#with numpy\n"
      ]
    },
    {
      "cell_type": "code",
      "execution_count": 115,
      "metadata": {
        "id": "N_qFDgkvze1Y"
      },
      "outputs": [],
      "source": [
        "np_array=np.array([50,60,70])"
      ]
    },
    {
      "cell_type": "code",
      "execution_count": 116,
      "metadata": {
        "colab": {
          "base_uri": "https://localhost:8080/"
        },
        "id": "gJHob6u2zhoU",
        "outputId": "7ae6b833-3de7-44c7-f1ef-4bedc1be37ad"
      },
      "outputs": [
        {
          "name": "stdout",
          "output_type": "stream",
          "text": [
            "0    50\n",
            "1    60\n",
            "2    70\n",
            "dtype: int64\n"
          ]
        }
      ],
      "source": [
        "print(pd.Series(np_array))"
      ]
    },
    {
      "cell_type": "markdown",
      "metadata": {
        "id": "t7Uiqw3B0kY6"
      },
      "source": [
        "aritmetic"
      ]
    },
    {
      "cell_type": "code",
      "execution_count": 117,
      "metadata": {
        "id": "LFGQE9-pzjAG"
      },
      "outputs": [],
      "source": [
        "contest_result=pd.Series(data=[10,5,100], index=[\"Atil\",\"James\",\"Lars\"])\n",
        "contest_result2=pd.Series(data=[20,15,10], index=[\"Atil\",\"James\",\"Lars\"])"
      ]
    },
    {
      "cell_type": "code",
      "execution_count": 118,
      "metadata": {
        "colab": {
          "base_uri": "https://localhost:8080/"
        },
        "id": "rFDGKbB30MPR",
        "outputId": "4ecebbad-2615-4702-a040-959b39c0e637"
      },
      "outputs": [
        {
          "name": "stdout",
          "output_type": "stream",
          "text": [
            "Atil      10\n",
            "James      5\n",
            "Lars     100\n",
            "dtype: int64\n"
          ]
        }
      ],
      "source": [
        "print(contest_result)"
      ]
    },
    {
      "cell_type": "code",
      "execution_count": 119,
      "metadata": {
        "colab": {
          "base_uri": "https://localhost:8080/"
        },
        "id": "30AXcFK80Pi8",
        "outputId": "d32e9807-b1e8-41dc-c279-8ba9d03caf0f"
      },
      "outputs": [
        {
          "name": "stdout",
          "output_type": "stream",
          "text": [
            "10\n"
          ]
        }
      ],
      "source": [
        "print(contest_result[\"Atil\"])"
      ]
    },
    {
      "cell_type": "code",
      "execution_count": 120,
      "metadata": {
        "colab": {
          "base_uri": "https://localhost:8080/"
        },
        "id": "ig6oOwYv0WIo",
        "outputId": "12c49257-57e5-4207-9abb-8a0755850faf"
      },
      "outputs": [
        {
          "name": "stdout",
          "output_type": "stream",
          "text": [
            "Atil      30\n",
            "James     20\n",
            "Lars     110\n",
            "dtype: int64\n",
            "Atil     15.0\n",
            "James    10.0\n",
            "Lars     55.0\n",
            "dtype: float64\n"
          ]
        }
      ],
      "source": [
        "final=contest_result+contest_result2\n",
        "print(final)\n",
        "print(final/2)"
      ]
    },
    {
      "cell_type": "code",
      "execution_count": 121,
      "metadata": {
        "colab": {
          "base_uri": "https://localhost:8080/"
        },
        "id": "Ac3PFjMQ0rPN",
        "outputId": "16b6e8d2-8a07-4a1d-acf6-7980d11fd6b5"
      },
      "outputs": [
        {
          "name": "stdout",
          "output_type": "stream",
          "text": [
            "Atil      200\n",
            "James      75\n",
            "Lars     1000\n",
            "dtype: int64\n"
          ]
        }
      ],
      "source": [
        "print(contest_result*contest_result2)\n"
      ]
    },
    {
      "cell_type": "code",
      "execution_count": 122,
      "metadata": {
        "id": "OEPpj5cx07Nw"
      },
      "outputs": [],
      "source": [
        "#indexler arasında farklılık olursa nasıl olur\n",
        "different_index=pd.Series(data=[10,5,100,24], index=[\"a\",\"b\",\"c\",\"f\"])\n",
        "different_index2=pd.Series(data=[20,15,10,35], index=[\"a\",\"c\",\"d\",\"e\"])"
      ]
    },
    {
      "cell_type": "code",
      "execution_count": 123,
      "metadata": {
        "colab": {
          "base_uri": "https://localhost:8080/"
        },
        "id": "39_eu33X1eAd",
        "outputId": "c500acdd-b7c0-47c0-d97f-880d81e812e0"
      },
      "outputs": [
        {
          "name": "stdout",
          "output_type": "stream",
          "text": [
            "a     30.0\n",
            "b      NaN\n",
            "c    115.0\n",
            "d      NaN\n",
            "e      NaN\n",
            "f      NaN\n",
            "dtype: float64\n"
          ]
        }
      ],
      "source": [
        "different_index_result=different_index+different_index2  #aynı indexleri bulursa işlemi yapar bulamadıklarına NaN döner\n",
        "print(different_index_result)"
      ]
    },
    {
      "cell_type": "markdown",
      "metadata": {
        "id": "4eC8HbYP2FgD"
      },
      "source": [
        "# DataFrame ==> boyutu birden fazla olan arraylar için . Seriesların birleşiminden oluşur"
      ]
    },
    {
      "cell_type": "code",
      "execution_count": 124,
      "metadata": {
        "id": "9uqpGqTl1f57"
      },
      "outputs": [],
      "source": [
        "data= np.random.randint(10,100,size=(4,3))"
      ]
    },
    {
      "cell_type": "code",
      "execution_count": 125,
      "metadata": {
        "colab": {
          "base_uri": "https://localhost:8080/"
        },
        "id": "wqb1tVOU2wjP",
        "outputId": "b7fa06ea-909f-4cfb-dafb-1b07c077cff4"
      },
      "outputs": [
        {
          "data": {
            "text/plain": [
              "array([[44, 66, 68],\n",
              "       [37, 97, 75],\n",
              "       [71, 72, 92],\n",
              "       [94, 14, 44]], dtype=int32)"
            ]
          },
          "execution_count": 125,
          "metadata": {},
          "output_type": "execute_result"
        }
      ],
      "source": [
        "data"
      ]
    },
    {
      "cell_type": "code",
      "execution_count": 126,
      "metadata": {
        "id": "nD-89v3M2y15"
      },
      "outputs": [],
      "source": [
        "data_frame=pd.DataFrame(data)"
      ]
    },
    {
      "cell_type": "code",
      "execution_count": 127,
      "metadata": {
        "colab": {
          "base_uri": "https://localhost:8080/",
          "height": 175
        },
        "id": "LfdvcDiP23sO",
        "outputId": "05d4fbdb-9e6a-4f76-c685-9d3d53d9169b"
      },
      "outputs": [
        {
          "data": {
            "text/html": [
              "<div>\n",
              "<style scoped>\n",
              "    .dataframe tbody tr th:only-of-type {\n",
              "        vertical-align: middle;\n",
              "    }\n",
              "\n",
              "    .dataframe tbody tr th {\n",
              "        vertical-align: top;\n",
              "    }\n",
              "\n",
              "    .dataframe thead th {\n",
              "        text-align: right;\n",
              "    }\n",
              "</style>\n",
              "<table border=\"1\" class=\"dataframe\">\n",
              "  <thead>\n",
              "    <tr style=\"text-align: right;\">\n",
              "      <th></th>\n",
              "      <th>0</th>\n",
              "      <th>1</th>\n",
              "      <th>2</th>\n",
              "    </tr>\n",
              "  </thead>\n",
              "  <tbody>\n",
              "    <tr>\n",
              "      <th>0</th>\n",
              "      <td>44</td>\n",
              "      <td>66</td>\n",
              "      <td>68</td>\n",
              "    </tr>\n",
              "    <tr>\n",
              "      <th>1</th>\n",
              "      <td>37</td>\n",
              "      <td>97</td>\n",
              "      <td>75</td>\n",
              "    </tr>\n",
              "    <tr>\n",
              "      <th>2</th>\n",
              "      <td>71</td>\n",
              "      <td>72</td>\n",
              "      <td>92</td>\n",
              "    </tr>\n",
              "    <tr>\n",
              "      <th>3</th>\n",
              "      <td>94</td>\n",
              "      <td>14</td>\n",
              "      <td>44</td>\n",
              "    </tr>\n",
              "  </tbody>\n",
              "</table>\n",
              "</div>"
            ],
            "text/plain": [
              "    0   1   2\n",
              "0  44  66  68\n",
              "1  37  97  75\n",
              "2  71  72  92\n",
              "3  94  14  44"
            ]
          },
          "execution_count": 127,
          "metadata": {},
          "output_type": "execute_result"
        }
      ],
      "source": [
        "data_frame\n"
      ]
    },
    {
      "cell_type": "code",
      "execution_count": 128,
      "metadata": {
        "colab": {
          "base_uri": "https://localhost:8080/",
          "height": 209
        },
        "id": "LAEmEdtu25wd",
        "outputId": "2395a0a0-b077-4735-f779-efb6cb8eb047"
      },
      "outputs": [
        {
          "data": {
            "text/plain": [
              "0    44\n",
              "1    37\n",
              "2    71\n",
              "3    94\n",
              "Name: 0, dtype: int32"
            ]
          },
          "execution_count": 128,
          "metadata": {},
          "output_type": "execute_result"
        }
      ],
      "source": [
        "data_frame[0]"
      ]
    },
    {
      "cell_type": "code",
      "execution_count": 129,
      "metadata": {
        "colab": {
          "base_uri": "https://localhost:8080/"
        },
        "id": "fDBr33Qt3Ov0",
        "outputId": "e4e620ad-2b79-4951-a698-35ae30bb84be"
      },
      "outputs": [
        {
          "name": "stdout",
          "output_type": "stream",
          "text": [
            "<class 'pandas.core.frame.DataFrame'>\n",
            "<class 'pandas.core.series.Series'>\n"
          ]
        }
      ],
      "source": [
        "print(type(data_frame))\n",
        "print(type(data_frame[0]))#burdan seriesların DataFramlerin temeli olduğunu anlıyoruz"
      ]
    },
    {
      "cell_type": "code",
      "execution_count": 130,
      "metadata": {
        "id": "kC85keOU3TAO"
      },
      "outputs": [],
      "source": [
        "new_df=pd.DataFrame(data,index=[\"Mustafa\",\"Ali\",\"Talha\",\"Ercan\"], columns=[\"Salary\",\"Age\",\"Experience\"])"
      ]
    },
    {
      "cell_type": "code",
      "execution_count": 131,
      "metadata": {
        "colab": {
          "base_uri": "https://localhost:8080/",
          "height": 175
        },
        "id": "mmrCFCXE36RA",
        "outputId": "3ae6340e-78e5-492f-8b10-bde50def4424"
      },
      "outputs": [
        {
          "data": {
            "text/html": [
              "<div>\n",
              "<style scoped>\n",
              "    .dataframe tbody tr th:only-of-type {\n",
              "        vertical-align: middle;\n",
              "    }\n",
              "\n",
              "    .dataframe tbody tr th {\n",
              "        vertical-align: top;\n",
              "    }\n",
              "\n",
              "    .dataframe thead th {\n",
              "        text-align: right;\n",
              "    }\n",
              "</style>\n",
              "<table border=\"1\" class=\"dataframe\">\n",
              "  <thead>\n",
              "    <tr style=\"text-align: right;\">\n",
              "      <th></th>\n",
              "      <th>Salary</th>\n",
              "      <th>Age</th>\n",
              "      <th>Experience</th>\n",
              "    </tr>\n",
              "  </thead>\n",
              "  <tbody>\n",
              "    <tr>\n",
              "      <th>Mustafa</th>\n",
              "      <td>44</td>\n",
              "      <td>66</td>\n",
              "      <td>68</td>\n",
              "    </tr>\n",
              "    <tr>\n",
              "      <th>Ali</th>\n",
              "      <td>37</td>\n",
              "      <td>97</td>\n",
              "      <td>75</td>\n",
              "    </tr>\n",
              "    <tr>\n",
              "      <th>Talha</th>\n",
              "      <td>71</td>\n",
              "      <td>72</td>\n",
              "      <td>92</td>\n",
              "    </tr>\n",
              "    <tr>\n",
              "      <th>Ercan</th>\n",
              "      <td>94</td>\n",
              "      <td>14</td>\n",
              "      <td>44</td>\n",
              "    </tr>\n",
              "  </tbody>\n",
              "</table>\n",
              "</div>"
            ],
            "text/plain": [
              "         Salary  Age  Experience\n",
              "Mustafa      44   66          68\n",
              "Ali          37   97          75\n",
              "Talha        71   72          92\n",
              "Ercan        94   14          44"
            ]
          },
          "execution_count": 131,
          "metadata": {},
          "output_type": "execute_result"
        }
      ],
      "source": [
        "new_df"
      ]
    },
    {
      "cell_type": "code",
      "execution_count": 132,
      "metadata": {
        "colab": {
          "base_uri": "https://localhost:8080/",
          "height": 209
        },
        "id": "tnaNgxF739eg",
        "outputId": "17854f13-e8c4-49fe-a19e-e6b54c788dab"
      },
      "outputs": [
        {
          "data": {
            "text/plain": [
              "Mustafa    66\n",
              "Ali        97\n",
              "Talha      72\n",
              "Ercan      14\n",
              "Name: Age, dtype: int32"
            ]
          },
          "execution_count": 132,
          "metadata": {},
          "output_type": "execute_result"
        }
      ],
      "source": [
        "new_df[\"Age\"]"
      ]
    },
    {
      "cell_type": "code",
      "execution_count": 133,
      "metadata": {
        "colab": {
          "base_uri": "https://localhost:8080/",
          "height": 175
        },
        "id": "9A6JHzUr4_86",
        "outputId": "135b6bcb-6a74-4488-c6df-49cbb4d13c30"
      },
      "outputs": [
        {
          "data": {
            "text/html": [
              "<div>\n",
              "<style scoped>\n",
              "    .dataframe tbody tr th:only-of-type {\n",
              "        vertical-align: middle;\n",
              "    }\n",
              "\n",
              "    .dataframe tbody tr th {\n",
              "        vertical-align: top;\n",
              "    }\n",
              "\n",
              "    .dataframe thead th {\n",
              "        text-align: right;\n",
              "    }\n",
              "</style>\n",
              "<table border=\"1\" class=\"dataframe\">\n",
              "  <thead>\n",
              "    <tr style=\"text-align: right;\">\n",
              "      <th></th>\n",
              "      <th>Salary</th>\n",
              "      <th>Age</th>\n",
              "    </tr>\n",
              "  </thead>\n",
              "  <tbody>\n",
              "    <tr>\n",
              "      <th>Mustafa</th>\n",
              "      <td>44</td>\n",
              "      <td>66</td>\n",
              "    </tr>\n",
              "    <tr>\n",
              "      <th>Ali</th>\n",
              "      <td>37</td>\n",
              "      <td>97</td>\n",
              "    </tr>\n",
              "    <tr>\n",
              "      <th>Talha</th>\n",
              "      <td>71</td>\n",
              "      <td>72</td>\n",
              "    </tr>\n",
              "    <tr>\n",
              "      <th>Ercan</th>\n",
              "      <td>94</td>\n",
              "      <td>14</td>\n",
              "    </tr>\n",
              "  </tbody>\n",
              "</table>\n",
              "</div>"
            ],
            "text/plain": [
              "         Salary  Age\n",
              "Mustafa      44   66\n",
              "Ali          37   97\n",
              "Talha        71   72\n",
              "Ercan        94   14"
            ]
          },
          "execution_count": 133,
          "metadata": {},
          "output_type": "execute_result"
        }
      ],
      "source": [
        "new_df[[\"Salary\",\"Age\"]]"
      ]
    },
    {
      "cell_type": "code",
      "execution_count": 134,
      "metadata": {
        "colab": {
          "base_uri": "https://localhost:8080/",
          "height": 178
        },
        "id": "HPGCStAZ5CbY",
        "outputId": "9691bf51-4411-426c-8362-e49f1a4f6e92"
      },
      "outputs": [
        {
          "data": {
            "text/plain": [
              "Salary        44\n",
              "Age           66\n",
              "Experience    68\n",
              "Name: Mustafa, dtype: int32"
            ]
          },
          "execution_count": 134,
          "metadata": {},
          "output_type": "execute_result"
        }
      ],
      "source": [
        "# row içinse:\n",
        "new_df.loc[\"Mustafa\"]"
      ]
    },
    {
      "cell_type": "code",
      "execution_count": 135,
      "metadata": {
        "colab": {
          "base_uri": "https://localhost:8080/",
          "height": 178
        },
        "id": "oGnH6jtU5QI1",
        "outputId": "cc11bd2b-1665-4f56-b013-92eda329da39"
      },
      "outputs": [
        {
          "data": {
            "text/plain": [
              "Salary        37\n",
              "Age           97\n",
              "Experience    75\n",
              "Name: Ali, dtype: int32"
            ]
          },
          "execution_count": 135,
          "metadata": {},
          "output_type": "execute_result"
        }
      ],
      "source": [
        "#eğer row isim değilde saı olursa\n",
        "new_df.iloc[1]"
      ]
    },
    {
      "cell_type": "code",
      "execution_count": 136,
      "metadata": {
        "colab": {
          "base_uri": "https://localhost:8080/",
          "height": 209
        },
        "id": "2gs-yiJp5b7F",
        "outputId": "585d7fa3-a6b1-4c7a-a286-e1f9bf7e29b7"
      },
      "outputs": [
        {
          "data": {
            "text/plain": [
              "Mustafa    66\n",
              "Ali        97\n",
              "Talha      72\n",
              "Ercan      14\n",
              "Name: Age, dtype: int32"
            ]
          },
          "execution_count": 136,
          "metadata": {},
          "output_type": "execute_result"
        }
      ],
      "source": [
        "new_df.iloc[:,1]#burda da \":\"=> demek columnların hepsini al \",\"=> columnların içinden belrteceğim indexi al"
      ]
    },
    {
      "cell_type": "markdown",
      "metadata": {
        "id": "XNuxps2E6UEy"
      },
      "source": [
        "# DATA MANIPULATION"
      ]
    },
    {
      "cell_type": "code",
      "execution_count": 137,
      "metadata": {
        "id": "dxckcrxo5zGz"
      },
      "outputs": [],
      "source": [
        "new_df[\"Ekstra\"]=10 # column ekleme . ama bu şekilde bütün satırlara(row) aynı değeri atar"
      ]
    },
    {
      "cell_type": "code",
      "execution_count": 138,
      "metadata": {
        "colab": {
          "base_uri": "https://localhost:8080/",
          "height": 175
        },
        "id": "86Bl4451GT9d",
        "outputId": "8d737abf-80b2-4fd4-9255-7cd7f472ebed"
      },
      "outputs": [
        {
          "data": {
            "text/html": [
              "<div>\n",
              "<style scoped>\n",
              "    .dataframe tbody tr th:only-of-type {\n",
              "        vertical-align: middle;\n",
              "    }\n",
              "\n",
              "    .dataframe tbody tr th {\n",
              "        vertical-align: top;\n",
              "    }\n",
              "\n",
              "    .dataframe thead th {\n",
              "        text-align: right;\n",
              "    }\n",
              "</style>\n",
              "<table border=\"1\" class=\"dataframe\">\n",
              "  <thead>\n",
              "    <tr style=\"text-align: right;\">\n",
              "      <th></th>\n",
              "      <th>Salary</th>\n",
              "      <th>Age</th>\n",
              "      <th>Experience</th>\n",
              "      <th>Ekstra</th>\n",
              "    </tr>\n",
              "  </thead>\n",
              "  <tbody>\n",
              "    <tr>\n",
              "      <th>Mustafa</th>\n",
              "      <td>44</td>\n",
              "      <td>66</td>\n",
              "      <td>68</td>\n",
              "      <td>10</td>\n",
              "    </tr>\n",
              "    <tr>\n",
              "      <th>Ali</th>\n",
              "      <td>37</td>\n",
              "      <td>97</td>\n",
              "      <td>75</td>\n",
              "      <td>10</td>\n",
              "    </tr>\n",
              "    <tr>\n",
              "      <th>Talha</th>\n",
              "      <td>71</td>\n",
              "      <td>72</td>\n",
              "      <td>92</td>\n",
              "      <td>10</td>\n",
              "    </tr>\n",
              "    <tr>\n",
              "      <th>Ercan</th>\n",
              "      <td>94</td>\n",
              "      <td>14</td>\n",
              "      <td>44</td>\n",
              "      <td>10</td>\n",
              "    </tr>\n",
              "  </tbody>\n",
              "</table>\n",
              "</div>"
            ],
            "text/plain": [
              "         Salary  Age  Experience  Ekstra\n",
              "Mustafa      44   66          68      10\n",
              "Ali          37   97          75      10\n",
              "Talha        71   72          92      10\n",
              "Ercan        94   14          44      10"
            ]
          },
          "execution_count": 138,
          "metadata": {},
          "output_type": "execute_result"
        }
      ],
      "source": [
        "new_df"
      ]
    },
    {
      "cell_type": "code",
      "execution_count": 139,
      "metadata": {
        "id": "JoYrHet3GfeT"
      },
      "outputs": [],
      "source": [
        "#silme/düşürme\n",
        "new_df.drop(\"Ekstra\", axis=1, inplace=True) # burda axis=0==> row axis=1==> columnda ekstra yı bul ve düşür demek eğer columnda ve row da aynı isimde değişken olsaydı ve axisi belirtmemiş olsaydık row u silerdi inpalace=True ==> ise bu işlemi new_df in içinde yap demek\n",
        "# şu şekilde de yapılabilir\n",
        "# new_df=new_df.drop(\"Ekstra\", axis=1)"
      ]
    },
    {
      "cell_type": "code",
      "execution_count": 140,
      "metadata": {
        "colab": {
          "base_uri": "https://localhost:8080/",
          "height": 175
        },
        "id": "I7J1zn_HG-mZ",
        "outputId": "67192fb7-3f7c-46e9-b96e-4bf4cc405478"
      },
      "outputs": [
        {
          "data": {
            "text/html": [
              "<div>\n",
              "<style scoped>\n",
              "    .dataframe tbody tr th:only-of-type {\n",
              "        vertical-align: middle;\n",
              "    }\n",
              "\n",
              "    .dataframe tbody tr th {\n",
              "        vertical-align: top;\n",
              "    }\n",
              "\n",
              "    .dataframe thead th {\n",
              "        text-align: right;\n",
              "    }\n",
              "</style>\n",
              "<table border=\"1\" class=\"dataframe\">\n",
              "  <thead>\n",
              "    <tr style=\"text-align: right;\">\n",
              "      <th></th>\n",
              "      <th>Salary</th>\n",
              "      <th>Age</th>\n",
              "      <th>Experience</th>\n",
              "    </tr>\n",
              "  </thead>\n",
              "  <tbody>\n",
              "    <tr>\n",
              "      <th>Mustafa</th>\n",
              "      <td>44</td>\n",
              "      <td>66</td>\n",
              "      <td>68</td>\n",
              "    </tr>\n",
              "    <tr>\n",
              "      <th>Ali</th>\n",
              "      <td>37</td>\n",
              "      <td>97</td>\n",
              "      <td>75</td>\n",
              "    </tr>\n",
              "    <tr>\n",
              "      <th>Talha</th>\n",
              "      <td>71</td>\n",
              "      <td>72</td>\n",
              "      <td>92</td>\n",
              "    </tr>\n",
              "    <tr>\n",
              "      <th>Ercan</th>\n",
              "      <td>94</td>\n",
              "      <td>14</td>\n",
              "      <td>44</td>\n",
              "    </tr>\n",
              "  </tbody>\n",
              "</table>\n",
              "</div>"
            ],
            "text/plain": [
              "         Salary  Age  Experience\n",
              "Mustafa      44   66          68\n",
              "Ali          37   97          75\n",
              "Talha        71   72          92\n",
              "Ercan        94   14          44"
            ]
          },
          "execution_count": 140,
          "metadata": {},
          "output_type": "execute_result"
        }
      ],
      "source": [
        "new_df"
      ]
    },
    {
      "cell_type": "code",
      "execution_count": 141,
      "metadata": {
        "colab": {
          "base_uri": "https://localhost:8080/"
        },
        "id": "yELX0T4nHUMx",
        "outputId": "101d96d5-8b35-4743-c54e-d8b9bfe97bdd"
      },
      "outputs": [
        {
          "data": {
            "text/plain": [
              "np.int32(44)"
            ]
          },
          "execution_count": 141,
          "metadata": {},
          "output_type": "execute_result"
        }
      ],
      "source": [
        "new_df.loc[\"Mustafa\"][\"Salary\"]\n",
        "# new_df.loc[\"Mustafa\",\"Salary\"] aynı işlevi görür"
      ]
    },
    {
      "cell_type": "code",
      "execution_count": 142,
      "metadata": {
        "id": "IlAU9ZWlIEta"
      },
      "outputs": [],
      "source": [
        "new_df.loc[\"Mustafa\",\"Salary\"]=100 # spesifik veri değiştirme"
      ]
    },
    {
      "cell_type": "code",
      "execution_count": 143,
      "metadata": {
        "colab": {
          "base_uri": "https://localhost:8080/",
          "height": 175
        },
        "id": "ZhGpVHHWIUkw",
        "outputId": "f50be008-d88b-42a3-e191-8b07e10fda2c"
      },
      "outputs": [
        {
          "data": {
            "text/html": [
              "<div>\n",
              "<style scoped>\n",
              "    .dataframe tbody tr th:only-of-type {\n",
              "        vertical-align: middle;\n",
              "    }\n",
              "\n",
              "    .dataframe tbody tr th {\n",
              "        vertical-align: top;\n",
              "    }\n",
              "\n",
              "    .dataframe thead th {\n",
              "        text-align: right;\n",
              "    }\n",
              "</style>\n",
              "<table border=\"1\" class=\"dataframe\">\n",
              "  <thead>\n",
              "    <tr style=\"text-align: right;\">\n",
              "      <th></th>\n",
              "      <th>Salary</th>\n",
              "      <th>Age</th>\n",
              "      <th>Experience</th>\n",
              "    </tr>\n",
              "  </thead>\n",
              "  <tbody>\n",
              "    <tr>\n",
              "      <th>Mustafa</th>\n",
              "      <td>100</td>\n",
              "      <td>66</td>\n",
              "      <td>68</td>\n",
              "    </tr>\n",
              "    <tr>\n",
              "      <th>Ali</th>\n",
              "      <td>37</td>\n",
              "      <td>97</td>\n",
              "      <td>75</td>\n",
              "    </tr>\n",
              "    <tr>\n",
              "      <th>Talha</th>\n",
              "      <td>71</td>\n",
              "      <td>72</td>\n",
              "      <td>92</td>\n",
              "    </tr>\n",
              "    <tr>\n",
              "      <th>Ercan</th>\n",
              "      <td>94</td>\n",
              "      <td>14</td>\n",
              "      <td>44</td>\n",
              "    </tr>\n",
              "  </tbody>\n",
              "</table>\n",
              "</div>"
            ],
            "text/plain": [
              "         Salary  Age  Experience\n",
              "Mustafa     100   66          68\n",
              "Ali          37   97          75\n",
              "Talha        71   72          92\n",
              "Ercan        94   14          44"
            ]
          },
          "execution_count": 143,
          "metadata": {},
          "output_type": "execute_result"
        }
      ],
      "source": [
        "new_df"
      ]
    },
    {
      "cell_type": "code",
      "execution_count": 144,
      "metadata": {
        "colab": {
          "base_uri": "https://localhost:8080/",
          "height": 175
        },
        "id": "GVkJ-UMcIVpI",
        "outputId": "1daec414-e10a-4c9f-b2fc-73352c6b940f"
      },
      "outputs": [
        {
          "data": {
            "text/html": [
              "<div>\n",
              "<style scoped>\n",
              "    .dataframe tbody tr th:only-of-type {\n",
              "        vertical-align: middle;\n",
              "    }\n",
              "\n",
              "    .dataframe tbody tr th {\n",
              "        vertical-align: top;\n",
              "    }\n",
              "\n",
              "    .dataframe thead th {\n",
              "        text-align: right;\n",
              "    }\n",
              "</style>\n",
              "<table border=\"1\" class=\"dataframe\">\n",
              "  <thead>\n",
              "    <tr style=\"text-align: right;\">\n",
              "      <th></th>\n",
              "      <th>Salary</th>\n",
              "      <th>Age</th>\n",
              "      <th>Experience</th>\n",
              "    </tr>\n",
              "  </thead>\n",
              "  <tbody>\n",
              "    <tr>\n",
              "      <th>Mustafa</th>\n",
              "      <td>True</td>\n",
              "      <td>True</td>\n",
              "      <td>True</td>\n",
              "    </tr>\n",
              "    <tr>\n",
              "      <th>Ali</th>\n",
              "      <td>True</td>\n",
              "      <td>True</td>\n",
              "      <td>True</td>\n",
              "    </tr>\n",
              "    <tr>\n",
              "      <th>Talha</th>\n",
              "      <td>True</td>\n",
              "      <td>True</td>\n",
              "      <td>True</td>\n",
              "    </tr>\n",
              "    <tr>\n",
              "      <th>Ercan</th>\n",
              "      <td>True</td>\n",
              "      <td>False</td>\n",
              "      <td>True</td>\n",
              "    </tr>\n",
              "  </tbody>\n",
              "</table>\n",
              "</div>"
            ],
            "text/plain": [
              "         Salary    Age  Experience\n",
              "Mustafa    True   True        True\n",
              "Ali        True   True        True\n",
              "Talha      True   True        True\n",
              "Ercan      True  False        True"
            ]
          },
          "execution_count": 144,
          "metadata": {},
          "output_type": "execute_result"
        }
      ],
      "source": [
        "new_df >20"
      ]
    },
    {
      "cell_type": "code",
      "execution_count": 145,
      "metadata": {
        "colab": {
          "base_uri": "https://localhost:8080/",
          "height": 175
        },
        "id": "DK8lDUojIhMg",
        "outputId": "818a8d60-09a3-480b-cb5e-70811e739542"
      },
      "outputs": [
        {
          "data": {
            "text/html": [
              "<div>\n",
              "<style scoped>\n",
              "    .dataframe tbody tr th:only-of-type {\n",
              "        vertical-align: middle;\n",
              "    }\n",
              "\n",
              "    .dataframe tbody tr th {\n",
              "        vertical-align: top;\n",
              "    }\n",
              "\n",
              "    .dataframe thead th {\n",
              "        text-align: right;\n",
              "    }\n",
              "</style>\n",
              "<table border=\"1\" class=\"dataframe\">\n",
              "  <thead>\n",
              "    <tr style=\"text-align: right;\">\n",
              "      <th></th>\n",
              "      <th>Salary</th>\n",
              "      <th>Age</th>\n",
              "      <th>Experience</th>\n",
              "    </tr>\n",
              "  </thead>\n",
              "  <tbody>\n",
              "    <tr>\n",
              "      <th>Mustafa</th>\n",
              "      <td>100</td>\n",
              "      <td>66.0</td>\n",
              "      <td>68</td>\n",
              "    </tr>\n",
              "    <tr>\n",
              "      <th>Ali</th>\n",
              "      <td>37</td>\n",
              "      <td>97.0</td>\n",
              "      <td>75</td>\n",
              "    </tr>\n",
              "    <tr>\n",
              "      <th>Talha</th>\n",
              "      <td>71</td>\n",
              "      <td>72.0</td>\n",
              "      <td>92</td>\n",
              "    </tr>\n",
              "    <tr>\n",
              "      <th>Ercan</th>\n",
              "      <td>94</td>\n",
              "      <td>NaN</td>\n",
              "      <td>44</td>\n",
              "    </tr>\n",
              "  </tbody>\n",
              "</table>\n",
              "</div>"
            ],
            "text/plain": [
              "         Salary   Age  Experience\n",
              "Mustafa     100  66.0          68\n",
              "Ali          37  97.0          75\n",
              "Talha        71  72.0          92\n",
              "Ercan        94   NaN          44"
            ]
          },
          "execution_count": 145,
          "metadata": {},
          "output_type": "execute_result"
        }
      ],
      "source": [
        "new_df[new_df>20]"
      ]
    },
    {
      "cell_type": "code",
      "execution_count": 146,
      "metadata": {
        "colab": {
          "base_uri": "https://localhost:8080/",
          "height": 112
        },
        "id": "F0zGtB3fIk99",
        "outputId": "fea01bb0-1688-4ba3-8c0b-8bbbdb2209c9"
      },
      "outputs": [
        {
          "data": {
            "text/html": [
              "<div>\n",
              "<style scoped>\n",
              "    .dataframe tbody tr th:only-of-type {\n",
              "        vertical-align: middle;\n",
              "    }\n",
              "\n",
              "    .dataframe tbody tr th {\n",
              "        vertical-align: top;\n",
              "    }\n",
              "\n",
              "    .dataframe thead th {\n",
              "        text-align: right;\n",
              "    }\n",
              "</style>\n",
              "<table border=\"1\" class=\"dataframe\">\n",
              "  <thead>\n",
              "    <tr style=\"text-align: right;\">\n",
              "      <th></th>\n",
              "      <th>Salary</th>\n",
              "      <th>Age</th>\n",
              "      <th>Experience</th>\n",
              "    </tr>\n",
              "  </thead>\n",
              "  <tbody>\n",
              "    <tr>\n",
              "      <th>Mustafa</th>\n",
              "      <td>100</td>\n",
              "      <td>66</td>\n",
              "      <td>68</td>\n",
              "    </tr>\n",
              "    <tr>\n",
              "      <th>Talha</th>\n",
              "      <td>71</td>\n",
              "      <td>72</td>\n",
              "      <td>92</td>\n",
              "    </tr>\n",
              "    <tr>\n",
              "      <th>Ercan</th>\n",
              "      <td>94</td>\n",
              "      <td>14</td>\n",
              "      <td>44</td>\n",
              "    </tr>\n",
              "  </tbody>\n",
              "</table>\n",
              "</div>"
            ],
            "text/plain": [
              "         Salary  Age  Experience\n",
              "Mustafa     100   66          68\n",
              "Talha        71   72          92\n",
              "Ercan        94   14          44"
            ]
          },
          "execution_count": 146,
          "metadata": {},
          "output_type": "execute_result"
        }
      ],
      "source": [
        "new_df[new_df[\"Salary\"]>50] # maaşı 50 den büyük olanlar"
      ]
    },
    {
      "cell_type": "code",
      "execution_count": 147,
      "metadata": {
        "colab": {
          "base_uri": "https://localhost:8080/",
          "height": 147
        },
        "id": "9kwnDWedI1o2",
        "outputId": "870a8cb2-67cf-4984-f015-0e7ce341f011"
      },
      "outputs": [
        {
          "data": {
            "text/plain": [
              "Mustafa    66\n",
              "Talha      72\n",
              "Ercan      14\n",
              "Name: Age, dtype: int32"
            ]
          },
          "execution_count": 147,
          "metadata": {},
          "output_type": "execute_result"
        }
      ],
      "source": [
        "new_df[\"Age\"][new_df[\"Salary\"]>50]# maaşı 50 den büyük olanların yaşını ver"
      ]
    },
    {
      "cell_type": "code",
      "execution_count": 148,
      "metadata": {
        "colab": {
          "base_uri": "https://localhost:8080/",
          "height": 147
        },
        "id": "v7XzijK7KOKh",
        "outputId": "163aa7fe-ae14-4072-e374-c1f57ce970de"
      },
      "outputs": [
        {
          "data": {
            "text/plain": [
              "Mustafa    68\n",
              "Talha      92\n",
              "Ercan      44\n",
              "Name: Experience, dtype: int32"
            ]
          },
          "execution_count": 148,
          "metadata": {},
          "output_type": "execute_result"
        }
      ],
      "source": [
        "new_df.Experience[new_df[\"Salary\"]>50]"
      ]
    },
    {
      "cell_type": "markdown",
      "metadata": {
        "id": "9uDdR21eJQNo"
      },
      "source": [
        "# DataFrame Index Mantığı"
      ]
    },
    {
      "cell_type": "code",
      "execution_count": 149,
      "metadata": {
        "id": "pzGOd4KGJHCv"
      },
      "outputs": [],
      "source": [
        "reset_frame=new_df.reset_index() # indexleri sıralar"
      ]
    },
    {
      "cell_type": "code",
      "execution_count": 150,
      "metadata": {
        "colab": {
          "base_uri": "https://localhost:8080/",
          "height": 175
        },
        "id": "d3lMjYrpKJAT",
        "outputId": "e94a6d9b-ea9e-48f9-88f8-19efcfb77f2a"
      },
      "outputs": [
        {
          "data": {
            "text/html": [
              "<div>\n",
              "<style scoped>\n",
              "    .dataframe tbody tr th:only-of-type {\n",
              "        vertical-align: middle;\n",
              "    }\n",
              "\n",
              "    .dataframe tbody tr th {\n",
              "        vertical-align: top;\n",
              "    }\n",
              "\n",
              "    .dataframe thead th {\n",
              "        text-align: right;\n",
              "    }\n",
              "</style>\n",
              "<table border=\"1\" class=\"dataframe\">\n",
              "  <thead>\n",
              "    <tr style=\"text-align: right;\">\n",
              "      <th></th>\n",
              "      <th>index</th>\n",
              "      <th>Salary</th>\n",
              "      <th>Age</th>\n",
              "      <th>Experience</th>\n",
              "    </tr>\n",
              "  </thead>\n",
              "  <tbody>\n",
              "    <tr>\n",
              "      <th>0</th>\n",
              "      <td>Mustafa</td>\n",
              "      <td>100</td>\n",
              "      <td>66</td>\n",
              "      <td>68</td>\n",
              "    </tr>\n",
              "    <tr>\n",
              "      <th>1</th>\n",
              "      <td>Ali</td>\n",
              "      <td>37</td>\n",
              "      <td>97</td>\n",
              "      <td>75</td>\n",
              "    </tr>\n",
              "    <tr>\n",
              "      <th>2</th>\n",
              "      <td>Talha</td>\n",
              "      <td>71</td>\n",
              "      <td>72</td>\n",
              "      <td>92</td>\n",
              "    </tr>\n",
              "    <tr>\n",
              "      <th>3</th>\n",
              "      <td>Ercan</td>\n",
              "      <td>94</td>\n",
              "      <td>14</td>\n",
              "      <td>44</td>\n",
              "    </tr>\n",
              "  </tbody>\n",
              "</table>\n",
              "</div>"
            ],
            "text/plain": [
              "     index  Salary  Age  Experience\n",
              "0  Mustafa     100   66          68\n",
              "1      Ali      37   97          75\n",
              "2    Talha      71   72          92\n",
              "3    Ercan      94   14          44"
            ]
          },
          "execution_count": 150,
          "metadata": {},
          "output_type": "execute_result"
        }
      ],
      "source": [
        "reset_frame"
      ]
    },
    {
      "cell_type": "code",
      "execution_count": null,
      "metadata": {
        "colab": {
          "base_uri": "https://localhost:8080/",
          "height": 178
        },
        "id": "XQmKsjHUKnkp",
        "outputId": "33cb9252-1cdb-491a-8a0b-e1d6587cec70"
      },
      "outputs": [
        {
          "name": "stdout",
          "output_type": "stream",
          "text": [
            "Salary        100\n",
            "Age            66\n",
            "Experience     68\n",
            "Name: Mus, dtype: int32\n"
          ]
        }
      ],
      "source": [
        "new_df.iloc[0]"
      ]
    },
    {
      "cell_type": "code",
      "execution_count": 152,
      "metadata": {
        "colab": {
          "base_uri": "https://localhost:8080/",
          "height": 209
        },
        "id": "kVw5JCzZKyz9",
        "outputId": "f5ba6a38-e4bb-4af4-ce4e-a3cfb1e03c2d"
      },
      "outputs": [
        {
          "data": {
            "text/plain": [
              "index         Mustafa\n",
              "Salary            100\n",
              "Age                66\n",
              "Experience         68\n",
              "Name: 0, dtype: object"
            ]
          },
          "execution_count": 152,
          "metadata": {},
          "output_type": "execute_result"
        }
      ],
      "source": [
        "reset_frame.loc[0]"
      ]
    },
    {
      "cell_type": "markdown",
      "metadata": {
        "id": "PP9rTrJ-L9q0"
      },
      "source": [
        "row isim değiştirme"
      ]
    },
    {
      "cell_type": "code",
      "execution_count": 153,
      "metadata": {
        "id": "4KSQ_1yzK1u9"
      },
      "outputs": [],
      "source": [
        "new_index=[\"Mus\",\"Al\",\"Tal\",\"Erc\"]"
      ]
    },
    {
      "cell_type": "code",
      "execution_count": 154,
      "metadata": {
        "id": "fPfZvrQqLoiZ"
      },
      "outputs": [],
      "source": [
        "new_df[\"new_index\"]=new_index"
      ]
    },
    {
      "cell_type": "code",
      "execution_count": 155,
      "metadata": {
        "id": "mnc_nQgrLWJf"
      },
      "outputs": [],
      "source": [
        "new_df.set_index(\"new_index\", inplace=True)"
      ]
    },
    {
      "cell_type": "code",
      "execution_count": 156,
      "metadata": {
        "colab": {
          "base_uri": "https://localhost:8080/",
          "height": 206
        },
        "id": "CNEJA-oXLfJZ",
        "outputId": "786796be-93ca-45dd-fe88-9627c52c84ca"
      },
      "outputs": [
        {
          "data": {
            "text/html": [
              "<div>\n",
              "<style scoped>\n",
              "    .dataframe tbody tr th:only-of-type {\n",
              "        vertical-align: middle;\n",
              "    }\n",
              "\n",
              "    .dataframe tbody tr th {\n",
              "        vertical-align: top;\n",
              "    }\n",
              "\n",
              "    .dataframe thead th {\n",
              "        text-align: right;\n",
              "    }\n",
              "</style>\n",
              "<table border=\"1\" class=\"dataframe\">\n",
              "  <thead>\n",
              "    <tr style=\"text-align: right;\">\n",
              "      <th></th>\n",
              "      <th>Salary</th>\n",
              "      <th>Age</th>\n",
              "      <th>Experience</th>\n",
              "    </tr>\n",
              "    <tr>\n",
              "      <th>new_index</th>\n",
              "      <th></th>\n",
              "      <th></th>\n",
              "      <th></th>\n",
              "    </tr>\n",
              "  </thead>\n",
              "  <tbody>\n",
              "    <tr>\n",
              "      <th>Mus</th>\n",
              "      <td>100</td>\n",
              "      <td>66</td>\n",
              "      <td>68</td>\n",
              "    </tr>\n",
              "    <tr>\n",
              "      <th>Al</th>\n",
              "      <td>37</td>\n",
              "      <td>97</td>\n",
              "      <td>75</td>\n",
              "    </tr>\n",
              "    <tr>\n",
              "      <th>Tal</th>\n",
              "      <td>71</td>\n",
              "      <td>72</td>\n",
              "      <td>92</td>\n",
              "    </tr>\n",
              "    <tr>\n",
              "      <th>Erc</th>\n",
              "      <td>94</td>\n",
              "      <td>14</td>\n",
              "      <td>44</td>\n",
              "    </tr>\n",
              "  </tbody>\n",
              "</table>\n",
              "</div>"
            ],
            "text/plain": [
              "           Salary  Age  Experience\n",
              "new_index                         \n",
              "Mus           100   66          68\n",
              "Al             37   97          75\n",
              "Tal            71   72          92\n",
              "Erc            94   14          44"
            ]
          },
          "execution_count": 156,
          "metadata": {},
          "output_type": "execute_result"
        }
      ],
      "source": [
        "new_df"
      ]
    },
    {
      "cell_type": "markdown",
      "metadata": {
        "id": "2zDnR1TkMdTT"
      },
      "source": [
        "Multi index"
      ]
    },
    {
      "cell_type": "code",
      "execution_count": 157,
      "metadata": {
        "id": "-1nDYgxzL5th"
      },
      "outputs": [],
      "source": [
        "first_index=[\"Simpsion\",\"Simpsion\",\"Simpsion\",\"South Park\",\"South Park\",\"South Park\"]\n",
        "inner_index=[\"Homer\",\"Bart\",\"Marge\",\"Cartman\",\"Kenny\",\"Kyle\"]"
      ]
    },
    {
      "cell_type": "code",
      "execution_count": 158,
      "metadata": {
        "id": "lqjkQZz_M8OE"
      },
      "outputs": [],
      "source": [
        "zipped_index=list(zip(first_index,inner_index))"
      ]
    },
    {
      "cell_type": "code",
      "execution_count": 159,
      "metadata": {
        "colab": {
          "base_uri": "https://localhost:8080/"
        },
        "id": "FE4q-Qp2NBrk",
        "outputId": "fef5c6ba-957e-479b-b525-6208ea7fc2c2"
      },
      "outputs": [
        {
          "data": {
            "text/plain": [
              "[('Simpsion', 'Homer'),\n",
              " ('Simpsion', 'Bart'),\n",
              " ('Simpsion', 'Marge'),\n",
              " ('South Park', 'Cartman'),\n",
              " ('South Park', 'Kenny'),\n",
              " ('South Park', 'Kyle')]"
            ]
          },
          "execution_count": 159,
          "metadata": {},
          "output_type": "execute_result"
        }
      ],
      "source": [
        "zipped_index"
      ]
    },
    {
      "cell_type": "code",
      "execution_count": 160,
      "metadata": {
        "id": "cmKHX2XRNCs0"
      },
      "outputs": [],
      "source": [
        "zipped_index=pd.MultiIndex.from_tuples(zipped_index)"
      ]
    },
    {
      "cell_type": "code",
      "execution_count": 161,
      "metadata": {
        "colab": {
          "base_uri": "https://localhost:8080/"
        },
        "id": "4q3qdT4uOPKr",
        "outputId": "a978c9dd-9dfc-401e-c25d-31e24f4ee6f0"
      },
      "outputs": [
        {
          "data": {
            "text/plain": [
              "MultiIndex([(  'Simpsion',   'Homer'),\n",
              "            (  'Simpsion',    'Bart'),\n",
              "            (  'Simpsion',   'Marge'),\n",
              "            ('South Park', 'Cartman'),\n",
              "            ('South Park',   'Kenny'),\n",
              "            ('South Park',    'Kyle')],\n",
              "           )"
            ]
          },
          "execution_count": 161,
          "metadata": {},
          "output_type": "execute_result"
        }
      ],
      "source": [
        "zipped_index"
      ]
    },
    {
      "cell_type": "code",
      "execution_count": 162,
      "metadata": {
        "id": "zJIYCMATOk4X"
      },
      "outputs": [],
      "source": [
        "sample_values= np.ones((6,2))"
      ]
    },
    {
      "cell_type": "code",
      "execution_count": 163,
      "metadata": {
        "id": "IS93RL9uOQ7G"
      },
      "outputs": [],
      "source": [
        "multi_frame=pd.DataFrame(sample_values, index=zipped_index, columns=[\"A\",\"B\"])"
      ]
    },
    {
      "cell_type": "code",
      "execution_count": 164,
      "metadata": {
        "colab": {
          "base_uri": "https://localhost:8080/",
          "height": 237
        },
        "id": "hb1tjL84Oskt",
        "outputId": "e45467d9-86ec-4b5e-c634-480aa05cb013"
      },
      "outputs": [
        {
          "data": {
            "text/html": [
              "<div>\n",
              "<style scoped>\n",
              "    .dataframe tbody tr th:only-of-type {\n",
              "        vertical-align: middle;\n",
              "    }\n",
              "\n",
              "    .dataframe tbody tr th {\n",
              "        vertical-align: top;\n",
              "    }\n",
              "\n",
              "    .dataframe thead th {\n",
              "        text-align: right;\n",
              "    }\n",
              "</style>\n",
              "<table border=\"1\" class=\"dataframe\">\n",
              "  <thead>\n",
              "    <tr style=\"text-align: right;\">\n",
              "      <th></th>\n",
              "      <th></th>\n",
              "      <th>A</th>\n",
              "      <th>B</th>\n",
              "    </tr>\n",
              "  </thead>\n",
              "  <tbody>\n",
              "    <tr>\n",
              "      <th rowspan=\"3\" valign=\"top\">Simpsion</th>\n",
              "      <th>Homer</th>\n",
              "      <td>1.0</td>\n",
              "      <td>1.0</td>\n",
              "    </tr>\n",
              "    <tr>\n",
              "      <th>Bart</th>\n",
              "      <td>1.0</td>\n",
              "      <td>1.0</td>\n",
              "    </tr>\n",
              "    <tr>\n",
              "      <th>Marge</th>\n",
              "      <td>1.0</td>\n",
              "      <td>1.0</td>\n",
              "    </tr>\n",
              "    <tr>\n",
              "      <th rowspan=\"3\" valign=\"top\">South Park</th>\n",
              "      <th>Cartman</th>\n",
              "      <td>1.0</td>\n",
              "      <td>1.0</td>\n",
              "    </tr>\n",
              "    <tr>\n",
              "      <th>Kenny</th>\n",
              "      <td>1.0</td>\n",
              "      <td>1.0</td>\n",
              "    </tr>\n",
              "    <tr>\n",
              "      <th>Kyle</th>\n",
              "      <td>1.0</td>\n",
              "      <td>1.0</td>\n",
              "    </tr>\n",
              "  </tbody>\n",
              "</table>\n",
              "</div>"
            ],
            "text/plain": [
              "                      A    B\n",
              "Simpsion   Homer    1.0  1.0\n",
              "           Bart     1.0  1.0\n",
              "           Marge    1.0  1.0\n",
              "South Park Cartman  1.0  1.0\n",
              "           Kenny    1.0  1.0\n",
              "           Kyle     1.0  1.0"
            ]
          },
          "execution_count": 164,
          "metadata": {},
          "output_type": "execute_result"
        }
      ],
      "source": [
        "multi_frame"
      ]
    },
    {
      "cell_type": "code",
      "execution_count": 165,
      "metadata": {
        "colab": {
          "base_uri": "https://localhost:8080/",
          "height": 147
        },
        "id": "x0SZ4FoeOt-T",
        "outputId": "54d9eba1-b53f-424e-b07e-23c766243fe3"
      },
      "outputs": [
        {
          "data": {
            "text/plain": [
              "A    1.0\n",
              "B    1.0\n",
              "Name: Homer, dtype: float64"
            ]
          },
          "execution_count": 165,
          "metadata": {},
          "output_type": "execute_result"
        }
      ],
      "source": [
        "multi_frame.loc[\"Simpsion\"].loc[\"Homer\"]"
      ]
    },
    {
      "cell_type": "code",
      "execution_count": null,
      "metadata": {
        "id": "qES5_neBO3Ee"
      },
      "outputs": [],
      "source": []
    }
  ],
  "metadata": {
    "colab": {
      "authorship_tag": "ABX9TyN3d4mwBH/skLS/CRrsCN7n",
      "include_colab_link": true,
      "provenance": []
    },
    "kernelspec": {
      "display_name": "Python 3",
      "name": "python3"
    },
    "language_info": {
      "codemirror_mode": {
        "name": "ipython",
        "version": 3
      },
      "file_extension": ".py",
      "mimetype": "text/x-python",
      "name": "python",
      "nbconvert_exporter": "python",
      "pygments_lexer": "ipython3",
      "version": "3.13.7"
    }
  },
  "nbformat": 4,
  "nbformat_minor": 0
}
